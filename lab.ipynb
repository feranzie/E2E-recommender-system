{
 "cells": [
  {
   "cell_type": "code",
   "execution_count": 1,
   "metadata": {},
   "outputs": [],
   "source": [
    "import pandas as pd\n",
    "from prefect import flow, task, get_run_logger\n",
    "\n",
    "#IMPORTING DATA FROM CSV FILES INTO A DATAFRAME FOR ANALYSIS \n",
    "post = pd.read_csv(\"data/posts.csv\")\n",
    "user = pd.read_csv(\"data/users.csv\")\n",
    "view = pd.read_csv(\"data/views.csv\")\n",
    "post[\"category\"] = post[\"category\"].fillna(\"random\")\n",
    "cat = {}\n",
    "for i in post[\"category\"]:\n",
    "    cat.update({i:[]})\n",
    "    for j in i.split(\"|\"):\n",
    "        cat[i].append(j)\n",
    "updated_data =  []\n",
    "for i in cat:\n",
    "    dummy = post[post['category']==i]\n",
    "    id = dummy['_id'].values[0]\n",
    "    title = dummy['title'].values[0]\n",
    "    post_type = dummy[' post_type'].values[0]\n",
    "    for j in cat[i]: \n",
    "        dict1 = {}\n",
    "        dict1.update({'_id':id})\n",
    "        dict1.update({'title':title})\n",
    "        dict1.update({'category':j})\n",
    "        dict1.update({' post_type':post_type})\n",
    "        updated_data.append(dict1)\n",
    "post1 = pd.DataFrame(updated_data)\n",
    "post1.rename(columns={\"_id\":'post_id'}, inplace = True)\n",
    "user.rename(columns={\"user_id\":'post_id'},  inplace = True)\n",
    "main = pd.merge(view,post1)\n",
    "users = list(main[\"user_id\"].unique())\n",
    "categories = list(main[\"category\"].unique())\n",
    "\n",
    "#MATRIX WILL BE OF 88,235\n",
    "user_mat = [[] for i in range(len(users))]\n",
    "for i in range(len(users)):\n",
    "    for j in range(len(categories)):\n",
    "        value = len(main[(main[\"user_id\"]==users[i]) & (main[\"category\"]==categories[j])])\n",
    "        user_mat[i].append(value)\n",
    "from scipy.sparse import csr_matrix \n",
    "user_mat = csr_matrix(user_mat)"
   ]
  },
  {
   "cell_type": "code",
   "execution_count": 11,
   "metadata": {},
   "outputs": [
    {
     "data": {
      "text/html": [
       "<div>\n",
       "<style scoped>\n",
       "    .dataframe tbody tr th:only-of-type {\n",
       "        vertical-align: middle;\n",
       "    }\n",
       "\n",
       "    .dataframe tbody tr th {\n",
       "        vertical-align: top;\n",
       "    }\n",
       "\n",
       "    .dataframe thead th {\n",
       "        text-align: right;\n",
       "    }\n",
       "</style>\n",
       "<table border=\"1\" class=\"dataframe\">\n",
       "  <thead>\n",
       "    <tr style=\"text-align: right;\">\n",
       "      <th></th>\n",
       "      <th>user_id</th>\n",
       "      <th>post_id</th>\n",
       "      <th>timestamp</th>\n",
       "      <th>title</th>\n",
       "      <th>category</th>\n",
       "      <th>post_type</th>\n",
       "    </tr>\n",
       "  </thead>\n",
       "  <tbody>\n",
       "    <tr>\n",
       "      <th>0</th>\n",
       "      <td>5df49b32cc709107827fb3c7</td>\n",
       "      <td>5ec821ddec493f4a2655889e</td>\n",
       "      <td>2020-06-01T10:46:45.131Z</td>\n",
       "      <td>Save Earth.</td>\n",
       "      <td>Visual Arts</td>\n",
       "      <td>artwork</td>\n",
       "    </tr>\n",
       "    <tr>\n",
       "      <th>1</th>\n",
       "      <td>5df49b32cc709107827fb3c7</td>\n",
       "      <td>5ec821ddec493f4a2655889e</td>\n",
       "      <td>2020-06-01T10:46:45.131Z</td>\n",
       "      <td>Save Earth.</td>\n",
       "      <td>Graphic Design</td>\n",
       "      <td>artwork</td>\n",
       "    </tr>\n",
       "    <tr>\n",
       "      <th>2</th>\n",
       "      <td>5df49b32cc709107827fb3c7</td>\n",
       "      <td>5ec821ddec493f4a2655889e</td>\n",
       "      <td>2020-06-01T10:46:45.131Z</td>\n",
       "      <td>Save Earth.</td>\n",
       "      <td>Artistic design</td>\n",
       "      <td>artwork</td>\n",
       "    </tr>\n",
       "    <tr>\n",
       "      <th>3</th>\n",
       "      <td>5df49b32cc709107827fb3c7</td>\n",
       "      <td>5ec821ddec493f4a2655889e</td>\n",
       "      <td>2020-06-01T10:46:45.131Z</td>\n",
       "      <td>Save Earth.</td>\n",
       "      <td>Graphic</td>\n",
       "      <td>artwork</td>\n",
       "    </tr>\n",
       "    <tr>\n",
       "      <th>4</th>\n",
       "      <td>5df49b32cc709107827fb3c7</td>\n",
       "      <td>5ec821ddec493f4a2655889e</td>\n",
       "      <td>2020-06-01T10:46:45.131Z</td>\n",
       "      <td>Save Earth.</td>\n",
       "      <td>Illustration</td>\n",
       "      <td>artwork</td>\n",
       "    </tr>\n",
       "  </tbody>\n",
       "</table>\n",
       "</div>"
      ],
      "text/plain": [
       "                    user_id                   post_id  \\\n",
       "0  5df49b32cc709107827fb3c7  5ec821ddec493f4a2655889e   \n",
       "1  5df49b32cc709107827fb3c7  5ec821ddec493f4a2655889e   \n",
       "2  5df49b32cc709107827fb3c7  5ec821ddec493f4a2655889e   \n",
       "3  5df49b32cc709107827fb3c7  5ec821ddec493f4a2655889e   \n",
       "4  5df49b32cc709107827fb3c7  5ec821ddec493f4a2655889e   \n",
       "\n",
       "                  timestamp        title         category  post_type  \n",
       "0  2020-06-01T10:46:45.131Z  Save Earth.      Visual Arts    artwork  \n",
       "1  2020-06-01T10:46:45.131Z  Save Earth.   Graphic Design    artwork  \n",
       "2  2020-06-01T10:46:45.131Z  Save Earth.  Artistic design    artwork  \n",
       "3  2020-06-01T10:46:45.131Z  Save Earth.          Graphic    artwork  \n",
       "4  2020-06-01T10:46:45.131Z  Save Earth.     Illustration    artwork  "
      ]
     },
     "execution_count": 11,
     "metadata": {},
     "output_type": "execute_result"
    }
   ],
   "source": [
    "main.head()"
   ]
  },
  {
   "cell_type": "code",
   "execution_count": 13,
   "metadata": {},
   "outputs": [],
   "source": [
    "import pickle\n",
    "import scipy.sparse as sp\n",
    "# Saving the list of IDs as a serialized object\n",
    "with open('users.pkl', 'wb') as f:\n",
    "    pickle.dump(users, f)\n",
    "\n"
   ]
  },
  {
   "cell_type": "code",
   "execution_count": 14,
   "metadata": {},
   "outputs": [],
   "source": [
    "# Loading the list of IDs from the serialized object\n",
    "with open('users.pkl', 'rb') as f:\n",
    "    id_list = pickle.load(f)"
   ]
  },
  {
   "cell_type": "code",
   "execution_count": 16,
   "metadata": {},
   "outputs": [],
   "source": [
    "import pandas as pd\n",
    "\n",
    "# Saving the dataframe as a CSV file\n",
    "main.to_csv('main.csv', index=False)"
   ]
  },
  {
   "cell_type": "code",
   "execution_count": 17,
   "metadata": {},
   "outputs": [],
   "source": [
    "# Loading the dataframe from the CSV file\n",
    "df = pd.read_csv('main.csv')"
   ]
  },
  {
   "cell_type": "code",
   "execution_count": 5,
   "metadata": {},
   "outputs": [],
   "source": [
    "import scipy.sparse as sp\n",
    "# Save the matrix to a file\n",
    "sp.save_npz('matrix.npz', user_mat)"
   ]
  },
  {
   "cell_type": "code",
   "execution_count": 3,
   "metadata": {},
   "outputs": [],
   "source": [
    "# Load the matrix from a file\n",
    "matrix = sp.load_npz('matrix.npz')"
   ]
  },
  {
   "cell_type": "code",
   "execution_count": null,
   "metadata": {},
   "outputs": [],
   "source": [
    "with open('models/lin_reg.bin', 'wb') as f_out:\n",
    "    pickle.dump((dv, lr), f_out)"
   ]
  },
  {
   "cell_type": "code",
   "execution_count": null,
   "metadata": {},
   "outputs": [],
   "source": [
    "import mlflow\n",
    "mlflow.set_tracking_uri(\"http://127.0.0.1:5000\")\n",
    "RUN_ID='fa350b60cf564ff1a1d3341e2ac38cbe'\n",
    "#logged_model = f'mlflow-artifacts:/728115650857226939/eb5ec70b031246f3a1336ba5ea0afe76/artifacts/model'\n",
    "logged_model=f'mlflow-artifacts:/773732190913986377/{RUN_ID}/artifacts/model'\n",
    "#logged_model = f'runs:/{RUN_ID}/model'\n",
    "model = mlflow.sklearn.load_model(logged_model)\n",
    "from flask import Flask, request, jsonify\n",
    "import data_helper\n",
    "\n",
    "main=data_helper.main\n",
    "users=data_helper.users\n",
    "def recommender(user_id, data=data_helper.user_mat, model=model):\n",
    "    model.fit(data)\n",
    "    index = users.index(user_id)\n",
    "    current_user = main[main['user_id']==user_id]\n",
    "    distances, indices = model.kneighbors(data[index], 15)\n",
    "    recomendation = []\n",
    "    for i in indices[0]:\n",
    "        user = main[main['user_id']==users[i]]\n",
    "        for i in user['category'].unique():\n",
    "            if i not in current_user['category'].unique():\n",
    "                recomendation.append(i)\n",
    "    return recomendation\n",
    "#     print(indices)\n",
    "#print(recommender('5df49b32cc709107827fb3c7')[:10])\n",
    "#recommender(users[0])[:10]\n",
    "app = Flask('recommender-prediction')\n",
    "\n",
    "\n",
    "@app.route('/predict', methods=['POST'])\n",
    "def predict_endpoint():\n",
    "    rec = request.get_json()\n",
    "\n",
    "    pred = recommender(rec)[:10]\n",
    "\n",
    "    result = {\n",
    "        \"id\":rec,\n",
    "        'recommendations': pred,\n",
    "        'model_version': RUN_ID\n",
    "    }\n",
    "\n",
    "    return jsonify(result)\n",
    "\n",
    "\n",
    "if __name__ == \"__main__\":\n",
    "    app.run(debug=True, host='0.0.0.0', port=9696)"
   ]
  }
 ],
 "metadata": {
  "kernelspec": {
   "display_name": "mlops5",
   "language": "python",
   "name": "python3"
  },
  "language_info": {
   "codemirror_mode": {
    "name": "ipython",
    "version": 3
   },
   "file_extension": ".py",
   "mimetype": "text/x-python",
   "name": "python",
   "nbconvert_exporter": "python",
   "pygments_lexer": "ipython3",
   "version": "3.8.16"
  },
  "orig_nbformat": 4
 },
 "nbformat": 4,
 "nbformat_minor": 2
}
