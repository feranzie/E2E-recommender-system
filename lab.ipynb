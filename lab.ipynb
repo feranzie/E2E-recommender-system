{
 "cells": [
  {
   "cell_type": "code",
   "execution_count": 13,
   "metadata": {},
   "outputs": [],
   "source": [
    "import pickle\n",
    "import scipy.sparse as sp\n",
    "# Saving the list of IDs as a serialized object\n",
    "with open('users.pkl', 'wb') as f:\n",
    "    pickle.dump(users, f)\n",
    "\n"
   ]
  },
  {
   "cell_type": "code",
   "execution_count": 14,
   "metadata": {},
   "outputs": [],
   "source": [
    "# Loading the list of IDs from the serialized object\n",
    "with open('users.pkl', 'rb') as f:\n",
    "    id_list = pickle.load(f)"
   ]
  },
  {
   "cell_type": "code",
   "execution_count": 16,
   "metadata": {},
   "outputs": [],
   "source": [
    "import pandas as pd\n",
    "\n",
    "# Saving the dataframe as a CSV file\n",
    "main.to_csv('main.csv', index=False)"
   ]
  },
  {
   "cell_type": "code",
   "execution_count": 17,
   "metadata": {},
   "outputs": [],
   "source": [
    "# Loading the dataframe from the CSV file\n",
    "df = pd.read_csv('main.csv')"
   ]
  },
  {
   "cell_type": "code",
   "execution_count": 5,
   "metadata": {},
   "outputs": [],
   "source": [
    "import scipy.sparse as sp\n",
    "# Save the matrix to a file\n",
    "sp.save_npz('matrix.npz', user_mat)"
   ]
  },
  {
   "cell_type": "code",
   "execution_count": 3,
   "metadata": {},
   "outputs": [],
   "source": [
    "# Load the matrix from a file\n",
    "matrix = sp.load_npz('matrix.npz')"
   ]
  },
  {
   "cell_type": "code",
   "execution_count": null,
   "metadata": {},
   "outputs": [],
   "source": [
    "with open('models/lin_reg.bin', 'wb') as f_out:\n",
    "    pickle.dump((dv, lr), f_out)"
   ]
  },
  {
   "cell_type": "code",
   "execution_count": null,
   "metadata": {},
   "outputs": [],
   "source": [
    "import mlflow\n",
    "mlflow.set_tracking_uri(\"http://127.0.0.1:5000\")\n",
    "RUN_ID='fa350b60cf564ff1a1d3341e2ac38cbe'\n",
    "#logged_model = f'mlflow-artifacts:/728115650857226939/eb5ec70b031246f3a1336ba5ea0afe76/artifacts/model'\n",
    "logged_model=f'mlflow-artifacts:/773732190913986377/{RUN_ID}/artifacts/model'\n",
    "#logged_model = f'runs:/{RUN_ID}/model'\n",
    "model = mlflow.sklearn.load_model(logged_model)\n",
    "from flask import Flask, request, jsonify\n",
    "import data_helper\n",
    "\n",
    "main=data_helper.main\n",
    "users=data_helper.users\n",
    "def recommender(user_id, data=data_helper.user_mat, model=model):\n",
    "    model.fit(data)\n",
    "    index = users.index(user_id)\n",
    "    current_user = main[main['user_id']==user_id]\n",
    "    distances, indices = model.kneighbors(data[index], 15)\n",
    "    recomendation = []\n",
    "    for i in indices[0]:\n",
    "        user = main[main['user_id']==users[i]]\n",
    "        for i in user['category'].unique():\n",
    "            if i not in current_user['category'].unique():\n",
    "                recomendation.append(i)\n",
    "    return recomendation\n",
    "#     print(indices)\n",
    "#print(recommender('5df49b32cc709107827fb3c7')[:10])\n",
    "#recommender(users[0])[:10]\n",
    "app = Flask('recommender-prediction')\n",
    "\n",
    "\n",
    "@app.route('/predict', methods=['POST'])\n",
    "def predict_endpoint():\n",
    "    rec = request.get_json()\n",
    "\n",
    "    pred = recommender(rec)[:10]\n",
    "\n",
    "    result = {\n",
    "        \"id\":rec,\n",
    "        'recommendations': pred,\n",
    "        'model_version': RUN_ID\n",
    "    }\n",
    "\n",
    "    return jsonify(result)\n",
    "\n",
    "\n",
    "if __name__ == \"__main__\":\n",
    "    app.run(debug=True, host='0.0.0.0', port=9696)"
   ]
  },
  {
   "cell_type": "code",
   "execution_count": 25,
   "metadata": {},
   "outputs": [
    {
     "ename": "AttributeError",
     "evalue": "module 'model' has no attribute 'base64_decode'",
     "output_type": "error",
     "traceback": [
      "\u001b[1;31m---------------------------------------------------------------------------\u001b[0m",
      "\u001b[1;31mAttributeError\u001b[0m                            Traceback (most recent call last)",
      "Cell \u001b[1;32mIn[25], line 2\u001b[0m\n\u001b[0;32m      1\u001b[0m \u001b[39mimport\u001b[39;00m \u001b[39mmodel\u001b[39;00m\n\u001b[1;32m----> 2\u001b[0m actual_result \u001b[39m=\u001b[39m model\u001b[39m.\u001b[39;49mbase64_decode(base64_input)\n",
      "\u001b[1;31mAttributeError\u001b[0m: module 'model' has no attribute 'base64_decode'"
     ]
    }
   ],
   "source": [
    "import model\n",
    "actual_result = model.base64_decode(base64_input)\n"
   ]
  },
  {
   "cell_type": "code",
   "execution_count": 37,
   "metadata": {},
   "outputs": [
    {
     "ename": "NameError",
     "evalue": "name 'matrix' is not defined",
     "output_type": "error",
     "traceback": [
      "\u001b[1;31m---------------------------------------------------------------------------\u001b[0m",
      "\u001b[1;31mNameError\u001b[0m                                 Traceback (most recent call last)",
      "Cell \u001b[1;32mIn[37], line 1\u001b[0m\n\u001b[1;32m----> 1\u001b[0m \u001b[39mdef\u001b[39;00m \u001b[39mrecommender\u001b[39m(user_id, data\u001b[39m=\u001b[39mmatrix, model\u001b[39m=\u001b[39mmodel):\n\u001b[0;32m      2\u001b[0m     model\u001b[39m.\u001b[39mfit(data)\n\u001b[0;32m      3\u001b[0m     index \u001b[39m=\u001b[39m users\u001b[39m.\u001b[39mindex(user_id)\n",
      "\u001b[1;31mNameError\u001b[0m: name 'matrix' is not defined"
     ]
    }
   ],
   "source": [
    "def recommender(user_id, data=matrix, model=model):\n",
    "    model.fit(data)\n",
    "    index = users.index(user_id)\n",
    "    current_user = main[main['user_id']==user_id]\n",
    "    distances, indices = model.kneighbors(data[index], 15)\n",
    "    recomendation = []\n",
    "    for i in indices[0]:\n",
    "        user = main[main['user_id']==users[i]]\n",
    "        for i in user['category'].unique():\n",
    "            if i not in current_user['category'].unique():\n",
    "                recomendation.append(i)\n",
    "    return recomendation"
   ]
  },
  {
   "cell_type": "code",
   "execution_count": null,
   "metadata": {},
   "outputs": [],
   "source": []
  }
 ],
 "metadata": {
  "kernelspec": {
   "display_name": "mlops5",
   "language": "python",
   "name": "python3"
  },
  "language_info": {
   "codemirror_mode": {
    "name": "ipython",
    "version": 3
   },
   "file_extension": ".py",
   "mimetype": "text/x-python",
   "name": "python",
   "nbconvert_exporter": "python",
   "pygments_lexer": "ipython3",
   "version": "3.8.16"
  },
  "orig_nbformat": 4
 },
 "nbformat": 4,
 "nbformat_minor": 2
}
