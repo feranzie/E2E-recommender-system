{
 "cells": [
  {
   "cell_type": "code",
   "execution_count": 1,
   "metadata": {},
   "outputs": [],
   "source": [
    "#IMPORTING LIBRARIES\n",
    "import numpy as np\n",
    "import pandas as pd\n",
    "import mlflow"
   ]
  },
  {
   "cell_type": "code",
   "execution_count": 2,
   "metadata": {},
   "outputs": [
    {
     "data": {
      "text/plain": [
       "<Experiment: artifact_location='mlflow-artifacts:/773732190913986377', creation_time=1680111011179, experiment_id='773732190913986377', last_update_time=1680111011179, lifecycle_stage='active', name='recommender', tags={}>"
      ]
     },
     "execution_count": 2,
     "metadata": {},
     "output_type": "execute_result"
    }
   ],
   "source": [
    "mlflow.set_tracking_uri(\"http://127.0.0.1:5000\")\n",
    "mlflow.set_experiment(\"recommender\")"
   ]
  },
  {
   "cell_type": "code",
   "execution_count": 4,
   "metadata": {},
   "outputs": [],
   "source": [
    "#IMPORTING DATA FROM CSV FILES INTO A DATAFRAME FOR ANALYSIS \n",
    "post = pd.read_csv(\"data/posts.csv\")\n",
    "user = pd.read_csv(\"data/users.csv\")\n",
    "view = pd.read_csv(\"data/views.csv\")"
   ]
  },
  {
   "cell_type": "code",
   "execution_count": 3,
   "metadata": {},
   "outputs": [],
   "source": [
    "post[\"category\"] = post[\"category\"].fillna(\"random\")"
   ]
  },
  {
   "cell_type": "code",
   "execution_count": 38,
   "metadata": {},
   "outputs": [
    {
     "name": "stdout",
     "output_type": "stream",
     "text": [
      "{'Plant Biotechnology': ['Plant Biotechnology'], 'Artificial Intelligence|Machine Learning|Information Technology': ['Artificial Intelligence', 'Machine Learning', 'Information Technology'], 'Operating Systems': ['Operating Systems'], 'Drawings': ['Drawings'], 'Competition Laws': ['Competition Laws'], 'Eco System': ['Eco System'], 'Economic Policies': ['Economic Policies'], 'Graphic|Graphic Design': ['Graphic', 'Graphic Design'], 'Painting': ['Painting'], 'Pen and ink': ['Pen and ink'], 'Computer Technology|Information Technology': ['Computer Technology', 'Information Technology'], 'Drawings|Painting': ['Drawings', 'Painting'], 'Graphic Design|Visual Arts|Illustration|Graphic': ['Graphic Design', 'Visual Arts', 'Illustration', 'Graphic'], 'Drawings|Calligraphy': ['Drawings', 'Calligraphy'], 'Photography': ['Photography'], 'Empowerment': ['Empowerment'], 'random': ['random'], 'Video editing': ['Video editing'], 'Inorganic Chemistry': ['Inorganic Chemistry'], 'Programming languages': ['Programming languages'], 'Conceptual|Graphic Design': ['Conceptual', 'Graphic Design'], 'HR Management': ['HR Management'], 'Human Resources|HR Management': ['Human Resources', 'HR Management'], 'Mass Media|International Relations': ['Mass Media', 'International Relations'], 'Sculptures|Artistic design': ['Sculptures', 'Artistic design'], 'Fashion Design|Ceramics|Artistic design': ['Fashion Design', 'Ceramics', 'Artistic design'], 'Craft|Artistic design': ['Craft', 'Artistic design'], 'Fashion Design|Visual Arts|Conceptual|Artistic design': ['Fashion Design', 'Visual Arts', 'Conceptual', 'Artistic design'], 'Photography|Fashion Design|Visual Arts|Graphic Design|Artistic design': ['Photography', 'Fashion Design', 'Visual Arts', 'Graphic Design', 'Artistic design'], 'Fashion Design|Visual Arts|Graphic Design|Artistic design|Graphic|Illustration': ['Fashion Design', 'Visual Arts', 'Graphic Design', 'Artistic design', 'Graphic', 'Illustration'], 'Mathematics|Linear Algebra': ['Mathematics', 'Linear Algebra'], 'Electronics & electrical Technology|Electrical Machines': ['Electronics & electrical Technology', 'Electrical Machines'], 'Auditing|Internal Audit': ['Auditing', 'Internal Audit'], 'E Commerce|E Transactions': ['E Commerce', 'E Transactions'], 'Computer Technology|Computation': ['Computer Technology', 'Computation'], 'Auditing|Internal Financial Control': ['Auditing', 'Internal Financial Control'], 'Taxation|Custom Laws': ['Taxation', 'Custom Laws'], 'Auditing|Audit Evidence': ['Auditing', 'Audit Evidence'], 'Taxation|GST': ['Taxation', 'GST'], 'Taxation|Direct Tax': ['Taxation', 'Direct Tax'], 'Auditing|Secratarial Audit': ['Auditing', 'Secratarial Audit'], 'Banking|Banking Companies': ['Banking', 'Banking Companies'], 'Banking|Banking Technology': ['Banking', 'Banking Technology'], 'Auditing|Audit Remark': ['Auditing', 'Audit Remark'], 'Auditing|Cost Audit': ['Auditing', 'Cost Audit'], 'Auditing|Statuary Audit': ['Auditing', 'Statuary Audit'], 'Computer Technology|Programming languages': ['Computer Technology', 'Programming languages'], 'Legal Studies|Legal System': ['Legal Studies', 'Legal System'], 'Sports Coaching|Sports Law': ['Sports Coaching', 'Sports Law'], 'Economics|Economics Sociology': ['Economics', 'Economics Sociology'], 'Economics|Revenue Concept': ['Economics', 'Revenue Concept'], 'Human Rights|Rights and Duties': ['Human Rights', 'Rights and Duties'], 'Sociology|Sociology of Religion': ['Sociology', 'Sociology of Religion'], 'Sociology|Sociology in India': ['Sociology', 'Sociology in India'], 'Political Science|International Politics': ['Political Science', 'International Politics'], 'Political Science|Colonialism In India': ['Political Science', 'Colonialism In India'], 'Legal Studies|Labor Law': ['Legal Studies', 'Labor Law'], 'Computer Technology|Design and Analysis of Algorithms|Programming languages': ['Computer Technology', 'Design and Analysis of Algorithms', 'Programming languages'], 'Computer Technology|Computer Application|Programming languages|Information Technology': ['Computer Technology', 'Computer Application', 'Programming languages', 'Information Technology'], 'Graphics|Computer Creation': ['Graphics', 'Computer Creation'], 'E Commerce|Other Online Platforms': ['E Commerce', 'Other Online Platforms'], 'Drawing': ['Drawing'], 'Drawings|Artistic design': ['Drawings', 'Artistic design'], 'Drawings|Artistic design|Illustration': ['Drawings', 'Artistic design', 'Illustration'], 'E Commerce|Shopping Platform|Other Online Platforms': ['E Commerce', 'Shopping Platform', 'Other Online Platforms'], 'Computer Technology|Hardware|Information Technology': ['Computer Technology', 'Hardware', 'Information Technology'], 'Computer Technology|Computation|Computer Application': ['Computer Technology', 'Computation', 'Computer Application'], 'Business|Business Skills': ['Business', 'Business Skills'], 'Computer Technology|Computer Application|Hardware|Information Technology': ['Computer Technology', 'Computer Application', 'Hardware', 'Information Technology'], 'Computer Technology|Computer Application': ['Computer Technology', 'Computer Application'], 'Computer Technology|Mobile Applications': ['Computer Technology', 'Mobile Applications'], 'Computer Technology|Computer Application|Operating Systems': ['Computer Technology', 'Computer Application', 'Operating Systems'], 'Computer Technology|Information Technology|Computer Application': ['Computer Technology', 'Information Technology', 'Computer Application'], 'Computer Technology|Computer Application|Information Technology': ['Computer Technology', 'Computer Application', 'Information Technology'], 'Communication|Basics of Communiaction': ['Communication', 'Basics of Communiaction'], 'Drawings|Painting|Visual Arts|Graphic Design|Prints|Illustration': ['Drawings', 'Painting', 'Visual Arts', 'Graphic Design', 'Prints', 'Illustration'], 'Drawings|Visual Arts|Painting|Graphic Design|Artistic design|Illustration': ['Drawings', 'Visual Arts', 'Painting', 'Graphic Design', 'Artistic design', 'Illustration'], 'Computer Technology|Artificial Intelligence': ['Computer Technology', 'Artificial Intelligence'], 'Marketing|Advertising': ['Marketing', 'Advertising'], 'Political Science|Political Thought': ['Political Science', 'Political Thought'], 'Accounting|Fundamental Of Accounting': ['Accounting', 'Fundamental Of Accounting'], 'Mixed Media': ['Mixed Media'], 'Management|Team Mangememnt': ['Management', 'Team Mangememnt'], 'Business|Corporate Social Responsibilities': ['Business', 'Corporate Social Responsibilities'], 'Philosophy|Applied Ethics': ['Philosophy', 'Applied Ethics'], 'Human Resources|Performance In Organization|Organizational Behaviour|HR Management': ['Human Resources', 'Performance In Organization', 'Organizational Behaviour', 'HR Management'], 'Fashion Desigining|Fashion Textile|Fashion Manufacturing|Fashion Techniques|Garment Production|Garment Technology': ['Fashion Desigining', 'Fashion Textile', 'Fashion Manufacturing', 'Fashion Techniques', 'Garment Production', 'Garment Technology'], 'Marketing|Promotion And Distribution Decisions': ['Marketing', 'Promotion And Distribution Decisions'], 'Biotechnology|Genetic Engineering': ['Biotechnology', 'Genetic Engineering'], 'Physiology|Neurology': ['Physiology', 'Neurology'], 'Mass Media|Indian Government': ['Mass Media', 'Indian Government'], 'Physiology|Osteology': ['Physiology', 'Osteology'], 'Physiology|Cardiology': ['Physiology', 'Cardiology'], 'Zoology|Ecology': ['Zoology', 'Ecology'], 'Computer Technology|Cloud Computing': ['Computer Technology', 'Cloud Computing'], 'Physiology|Radiology': ['Physiology', 'Radiology'], 'Computer Technology|Operating Systems': ['Computer Technology', 'Operating Systems'], 'Biotechnology|Molecular Biology': ['Biotechnology', 'Molecular Biology'], 'Physiology|Gastroenterology|Cardiology': ['Physiology', 'Gastroenterology', 'Cardiology'], 'Philosophy|Logic': ['Philosophy', 'Logic'], 'Watercolours': ['Watercolours'], 'Drawings|Watercolours': ['Drawings', 'Watercolours'], 'Mixed Media|Conceptual': ['Mixed Media', 'Conceptual'], 'Drawings|Painting|Watercolours': ['Drawings', 'Painting', 'Watercolours'], 'Visual Arts': ['Visual Arts'], 'Conceptual': ['Conceptual'], 'Tapestry': ['Tapestry'], 'Calligraphy': ['Calligraphy'], 'Human Resources|Performance In Organization': ['Human Resources', 'Performance In Organization'], 'Computer Technology|Robotics|Data Science|Information Technology|Artificial Intelligence': ['Computer Technology', 'Robotics', 'Data Science', 'Information Technology', 'Artificial Intelligence'], 'Philosophy|Public Philosophy': ['Philosophy', 'Public Philosophy'], 'Digital Marketing': ['Digital Marketing'], 'Mass Media|Videography': ['Mass Media', 'Videography'], 'Drawings|Painting|Visual Arts|Artistic design|Watercolours|Acrylics': ['Drawings', 'Painting', 'Visual Arts', 'Artistic design', 'Watercolours', 'Acrylics'], 'Biotechnology|Plant Biotechnology': ['Biotechnology', 'Plant Biotechnology'], 'Sports Coaching|Sports Event': ['Sports Coaching', 'Sports Event'], 'Political Science|Government and Politics': ['Political Science', 'Government and Politics'], 'Geography|Physical Geography': ['Geography', 'Physical Geography'], 'Computer Technology|Data Science': ['Computer Technology', 'Data Science'], 'Computer Technology|Machine Learning': ['Computer Technology', 'Machine Learning'], 'Graphic Design': ['Graphic Design'], 'Graphic Design|Visual Arts': ['Graphic Design', 'Visual Arts'], 'Education': ['Education'], 'Business|Business Organisation': ['Business', 'Business Organisation'], 'Zoology|Environmental Biology': ['Zoology', 'Environmental Biology'], 'Human Rights|Fundamental Rights': ['Human Rights', 'Fundamental Rights'], 'Computer Technology|Design and Analysis of Algorithms': ['Computer Technology', 'Design and Analysis of Algorithms'], 'Marketing|Marketing Management': ['Marketing', 'Marketing Management'], 'Accounting|Partnership Accounting|Corporate Accounting|Accounting Theory And Practices': ['Accounting', 'Partnership Accounting', 'Corporate Accounting', 'Accounting Theory And Practices'], 'Legal Studies|Income Tax Laws': ['Legal Studies', 'Income Tax Laws'], 'Graphics|Articulation|Computer Creation': ['Graphics', 'Articulation', 'Computer Creation'], 'Archeology|Human Prehistory': ['Archeology', 'Human Prehistory'], 'Business|Start Ups|Entreperneurship|Business Strategies|Venture Capitalist|Business Planning': ['Business', 'Start Ups', 'Entreperneurship', 'Business Strategies', 'Venture Capitalist', 'Business Planning'], 'Geography|Indian Geography': ['Geography', 'Indian Geography'], 'E Commerce|Shopping Platform|Other Online Platforms|Digital India': ['E Commerce', 'Shopping Platform', 'Other Online Platforms', 'Digital India'], 'Business|Bio-entrepreneurship': ['Business', 'Bio-entrepreneurship'], 'Literature|Stories': ['Literature', 'Stories'], 'History|Indian History': ['History', 'Indian History'], 'ViDEO': ['ViDEO'], 'Management|Business Management': ['Management', 'Business Management'], 'Visual Arts|Photography': ['Visual Arts', 'Photography'], 'Social Work|Health Education': ['Social Work', 'Health Education'], 'Social Work|Social Tech': ['Social Work', 'Social Tech'], 'Social Work|Humanities': ['Social Work', 'Humanities'], 'Photography|Visual Arts': ['Photography', 'Visual Arts'], 'Accounting|Financial Accounting': ['Accounting', 'Financial Accounting'], 'Psycholgy|Social Psychology': ['Psycholgy', 'Social Psychology'], 'Photography|Conceptual': ['Photography', 'Conceptual'], 'Physics|Instrumentation': ['Physics', 'Instrumentation'], 'Craft work': ['Craft work'], 'Social Work|Social Interventions|Substance Abuse': ['Social Work', 'Social Interventions', 'Substance Abuse'], 'Economics|Indian Economy': ['Economics', 'Indian Economy'], 'Social Work|Substance Abuse|Social Interventions|Humanities': ['Social Work', 'Substance Abuse', 'Social Interventions', 'Humanities'], 'Social Work|Social Interventions|Substance Abuse|Health Education': ['Social Work', 'Social Interventions', 'Substance Abuse', 'Health Education'], 'Social Work|Humanities|Social Interventions': ['Social Work', 'Humanities', 'Social Interventions'], 'Finance|Financial Analysis': ['Finance', 'Financial Analysis'], 'Architecture': ['Architecture'], 'Photography|Architecture|Painting': ['Photography', 'Architecture', 'Painting'], 'Computer Technology|Cloud Computing|Artificial Intelligence|Information Technology|Programming languages': ['Computer Technology', 'Cloud Computing', 'Artificial Intelligence', 'Information Technology', 'Programming languages'], 'Computer Technology|Design and Analysis of Algorithms|Web designing|Database Management|Artificial Intelligence': ['Computer Technology', 'Design and Analysis of Algorithms', 'Web designing', 'Database Management', 'Artificial Intelligence'], 'Literature|Movements in Literature': ['Literature', 'Movements in Literature'], 'Physics|Atomic Physics|Energy Physics|Quantum Mecahnics|Instrumentation': ['Physics', 'Atomic Physics', 'Energy Physics', 'Quantum Mecahnics', 'Instrumentation'], 'Business|Business Strategies|Venture Capitalist': ['Business', 'Business Strategies', 'Venture Capitalist'], 'Photography|Architecture|Illustration': ['Photography', 'Architecture', 'Illustration'], 'Photography|Architecture': ['Photography', 'Architecture'], 'Human Rights|Fundamental Rights|Protection & Enforcement': ['Human Rights', 'Fundamental Rights', 'Protection & Enforcement'], 'Environment Studies|Pollution|Environmental Biology': ['Environment Studies', 'Pollution', 'Environmental Biology'], 'Photography|Conceptual|Illustration': ['Photography', 'Conceptual', 'Illustration'], 'Physics|Quantum Mecahnics|Industrial Instrumentation|Atomic Physics|Nuclear & Particle Physics|Energy Physics': ['Physics', 'Quantum Mecahnics', 'Industrial Instrumentation', 'Atomic Physics', 'Nuclear & Particle Physics', 'Energy Physics'], 'Biotechnology|Environmental Biotechnology': ['Biotechnology', 'Environmental Biotechnology'], 'Legal Studies|Alternate Dispute Resolution|International Treaties|International Agreement': ['Legal Studies', 'Alternate Dispute Resolution', 'International Treaties', 'International Agreement'], 'Marketing|Principles Of Marketing|Marketing Research Methadology|Marketing Management|International Marketing': ['Marketing', 'Principles Of Marketing', 'Marketing Research Methadology', 'Marketing Management', 'International Marketing'], 'Sculptures': ['Sculptures'], 'Psycholgy|Child Development': ['Psycholgy', 'Child Development'], 'Economics|Economic Policies|Break even Point|Foreign Economy': ['Economics', 'Economic Policies', 'Break even Point', 'Foreign Economy'], 'Psycholgy|Psychological Growth': ['Psycholgy', 'Psychological Growth'], 'Management|Business Management|Technology Mangement|Managerial Activity|Creative And Lateral Management': ['Management', 'Business Management', 'Technology Mangement', 'Managerial Activity', 'Creative And Lateral Management'], 'Business': ['Business'], 'Business|Business Strategies|Business Enviorment|New Venture Planning|Foreign Business|Business Organisation': ['Business', 'Business Strategies', 'Business Enviorment', 'New Venture Planning', 'Foreign Business', 'Business Organisation'], 'Marketing|Principles Of Marketing|International Marketing|Promotion And Distribution Decisions': ['Marketing', 'Principles Of Marketing', 'International Marketing', 'Promotion And Distribution Decisions'], 'Social Work|NGO': ['Social Work', 'NGO'], 'Fine Arts|Painting': ['Fine Arts', 'Painting'], 'Legal Studies|Legal System|Legal Tradition|Nationality Law|Government Law': ['Legal Studies', 'Legal System', 'Legal Tradition', 'Nationality Law', 'Government Law'], 'Business|Entreperneurship|Venture Capitalist|Business Enviorment|Start Ups|Business Planning|New Venture Planning': ['Business', 'Entreperneurship', 'Venture Capitalist', 'Business Enviorment', 'Start Ups', 'Business Planning', 'New Venture Planning'], 'Legal Studies|Company Law|Legal System|Banking Law': ['Legal Studies', 'Company Law', 'Legal System', 'Banking Law'], 'Computer Technology|Web designing|Artificial Intelligence|Computer Application|Machine Learning|Frontend Development': ['Computer Technology', 'Web designing', 'Artificial Intelligence', 'Computer Application', 'Machine Learning', 'Frontend Development'], 'Music': ['Music'], 'Sculptures|Wood Crafts|Craft|Wood carving': ['Sculptures', 'Wood Crafts', 'Craft', 'Wood carving'], 'Fashion Design': ['Fashion Design'], 'Painting|Craft|Artistic design': ['Painting', 'Craft', 'Artistic design'], '2D Composition|Watercolours|Painting': ['2D Composition', 'Watercolours', 'Painting'], 'Painting|Watercolours|2D Composition': ['Painting', 'Watercolours', '2D Composition'], 'Visual Arts|Craft|Conceptual': ['Visual Arts', 'Craft', 'Conceptual'], 'Painting|Visual Arts|Craft|Conceptual': ['Painting', 'Visual Arts', 'Craft', 'Conceptual'], 'Painting|Craft|Mixed Media|2D Composition': ['Painting', 'Craft', 'Mixed Media', '2D Composition'], 'Visual Arts|Craft|Mixed Media|Conceptual|Mosaic painting': ['Visual Arts', 'Craft', 'Mixed Media', 'Conceptual', 'Mosaic painting'], 'Craft|Drawings|Conceptual|2D Composition': ['Craft', 'Drawings', 'Conceptual', '2D Composition'], 'Craft|Mixed Media|Conceptual|Mosaic painting|2D Composition': ['Craft', 'Mixed Media', 'Conceptual', 'Mosaic painting', '2D Composition'], 'Video': ['Video'], 'Fashion Desigining|Fashion Illustration|Pattern Cutting|Fashion Communication': ['Fashion Desigining', 'Fashion Illustration', 'Pattern Cutting', 'Fashion Communication'], 'Biotechnology|Animal Biotechnology': ['Biotechnology', 'Animal Biotechnology'], 'Fashion Desigining|Pattern & Culture|Fashion Trends|Fashion Portfoilio': ['Fashion Desigining', 'Pattern & Culture', 'Fashion Trends', 'Fashion Portfoilio'], 'Sketch Video': ['Sketch Video'], 'Fashion Desigining|Pattern & Culture|Fashion Textile|Fashion Trends': ['Fashion Desigining', 'Pattern & Culture', 'Fashion Textile', 'Fashion Trends'], 'Test': ['Test'], 'Professionalism': ['Professionalism'], 'Art': ['Art'], 'Science;Technology': ['Science;Technology'], 'Art; Science': ['Art; Science'], 'Fashion Design|Illustration|Watercolours|Drawings': ['Fashion Design', 'Illustration', 'Watercolours', 'Drawings'], 'Drawings|Fashion Design|Illustration|Watercolours': ['Drawings', 'Fashion Design', 'Illustration', 'Watercolours'], 'Fashion Design|Illustration|Watercolours': ['Fashion Design', 'Illustration', 'Watercolours'], 'Drawings|Fashion Design|Mixed Media|Conceptual|Illustration|Pen and ink|Watercolours': ['Drawings', 'Fashion Design', 'Mixed Media', 'Conceptual', 'Illustration', 'Pen and ink', 'Watercolours'], 'Fashion Design|Illustration|Conceptual|Watercolours|Pen and ink': ['Fashion Design', 'Illustration', 'Conceptual', 'Watercolours', 'Pen and ink'], 'Artistic design|Logo Design|Graphic|Illustration': ['Artistic design', 'Logo Design', 'Graphic', 'Illustration'], 'Visual Arts|Graphic Design|Artistic design|Graphic|Illustration': ['Visual Arts', 'Graphic Design', 'Artistic design', 'Graphic', 'Illustration'], 'Learning': ['Learning'], 'Photography|Architecture|Visual Arts|Graphic Design': ['Photography', 'Architecture', 'Visual Arts', 'Graphic Design'], 'Photography|Architecture|Visual Arts|Graphic Design|Artistic design|Graphic|Logo Design': ['Photography', 'Architecture', 'Visual Arts', 'Graphic Design', 'Artistic design', 'Graphic', 'Logo Design'], 'Visual Arts|Graphic Design|2D Composition|Logo Design': ['Visual Arts', 'Graphic Design', '2D Composition', 'Logo Design'], 'Artistic design': ['Artistic design'], 'Literature|Stories|Fictions|Movements in Literature': ['Literature', 'Stories', 'Fictions', 'Movements in Literature'], 'Technology': ['Technology'], 'Computer Technology|Computation|Computer Application|Cloud Computing': ['Computer Technology', 'Computation', 'Computer Application', 'Cloud Computing'], 'Visual Arts|Calligraphy|Pen and ink': ['Visual Arts', 'Calligraphy', 'Pen and ink'], 'Mixed Media|Calligraphy|Pen and ink': ['Mixed Media', 'Calligraphy', 'Pen and ink'], 'Typography|Pen and ink': ['Typography', 'Pen and ink'], 'Typography|Calligraphy|Pen and ink': ['Typography', 'Calligraphy', 'Pen and ink'], 'Calligraphy|Typography|Pen and ink': ['Calligraphy', 'Typography', 'Pen and ink'], 'Calligraphy|Pen and ink': ['Calligraphy', 'Pen and ink'], 'Mass Media|Media And Society': ['Mass Media', 'Media And Society'], 'Science; Technology': ['Science; Technology']}\n"
     ]
    }
   ],
   "source": [
    "cat = {}\n",
    "for i in post[\"category\"]:\n",
    "    cat.update({i:[]})\n",
    "    for j in i.split(\"|\"):\n",
    "        cat[i].append(j)\n",
    "print(cat)"
   ]
  },
  {
   "cell_type": "code",
   "execution_count": 39,
   "metadata": {},
   "outputs": [
    {
     "data": {
      "text/html": [
       "<div>\n",
       "<style scoped>\n",
       "    .dataframe tbody tr th:only-of-type {\n",
       "        vertical-align: middle;\n",
       "    }\n",
       "\n",
       "    .dataframe tbody tr th {\n",
       "        vertical-align: top;\n",
       "    }\n",
       "\n",
       "    .dataframe thead th {\n",
       "        text-align: right;\n",
       "    }\n",
       "</style>\n",
       "<table border=\"1\" class=\"dataframe\">\n",
       "  <thead>\n",
       "    <tr style=\"text-align: right;\">\n",
       "      <th></th>\n",
       "      <th>_id</th>\n",
       "      <th>title</th>\n",
       "      <th>category</th>\n",
       "      <th>post_type</th>\n",
       "    </tr>\n",
       "  </thead>\n",
       "  <tbody>\n",
       "    <tr>\n",
       "      <th>0</th>\n",
       "      <td>5d62abaa65218653a132c956</td>\n",
       "      <td>hello there</td>\n",
       "      <td>Plant Biotechnology</td>\n",
       "      <td>blog</td>\n",
       "    </tr>\n",
       "    <tr>\n",
       "      <th>1</th>\n",
       "      <td>5d6d39567fa40e1417a4931c</td>\n",
       "      <td>Ml and AI</td>\n",
       "      <td>Artificial Intelligence|Machine Learning|Infor...</td>\n",
       "      <td>blog</td>\n",
       "    </tr>\n",
       "    <tr>\n",
       "      <th>2</th>\n",
       "      <td>5d7d23315720533e15c3b1ee</td>\n",
       "      <td>What is an Operating System ?</td>\n",
       "      <td>Operating Systems</td>\n",
       "      <td>blog</td>\n",
       "    </tr>\n",
       "    <tr>\n",
       "      <th>3</th>\n",
       "      <td>5d7d405e5720533e15c3b1f3</td>\n",
       "      <td>Lord Shiva</td>\n",
       "      <td>Drawings</td>\n",
       "      <td>artwork</td>\n",
       "    </tr>\n",
       "    <tr>\n",
       "      <th>4</th>\n",
       "      <td>5d80dfbc6c53455f896e600e</td>\n",
       "      <td>How Competition law evolved?</td>\n",
       "      <td>Competition Laws</td>\n",
       "      <td>blog</td>\n",
       "    </tr>\n",
       "  </tbody>\n",
       "</table>\n",
       "</div>"
      ],
      "text/plain": [
       "                        _id                          title  \\\n",
       "0  5d62abaa65218653a132c956                    hello there   \n",
       "1  5d6d39567fa40e1417a4931c                      Ml and AI   \n",
       "2  5d7d23315720533e15c3b1ee  What is an Operating System ?   \n",
       "3  5d7d405e5720533e15c3b1f3                     Lord Shiva   \n",
       "4  5d80dfbc6c53455f896e600e   How Competition law evolved?   \n",
       "\n",
       "                                            category  post_type  \n",
       "0                                Plant Biotechnology       blog  \n",
       "1  Artificial Intelligence|Machine Learning|Infor...       blog  \n",
       "2                                  Operating Systems       blog  \n",
       "3                                           Drawings    artwork  \n",
       "4                                   Competition Laws       blog  "
      ]
     },
     "execution_count": 39,
     "metadata": {},
     "output_type": "execute_result"
    }
   ],
   "source": [
    "post.head()"
   ]
  },
  {
   "cell_type": "code",
   "execution_count": 40,
   "metadata": {},
   "outputs": [],
   "source": [
    "updated_data =  []\n",
    "for i in cat:\n",
    "    dummy = post[post['category']==i]\n",
    "    id = dummy['_id'].values[0]\n",
    "    title = dummy['title'].values[0]\n",
    "    post_type = dummy[' post_type'].values[0]\n",
    "    for j in cat[i]: \n",
    "        dict1 = {}\n",
    "        dict1.update({'_id':id})\n",
    "        dict1.update({'title':title})\n",
    "        dict1.update({'category':j})\n",
    "        dict1.update({' post_type':post_type})\n",
    "        updated_data.append(dict1)"
   ]
  },
  {
   "cell_type": "code",
   "execution_count": 41,
   "metadata": {},
   "outputs": [
    {
     "data": {
      "text/plain": [
       "592"
      ]
     },
     "execution_count": 41,
     "metadata": {},
     "output_type": "execute_result"
    }
   ],
   "source": [
    "len(updated_data)"
   ]
  },
  {
   "cell_type": "code",
   "execution_count": 42,
   "metadata": {},
   "outputs": [],
   "source": [
    "post1 = pd.DataFrame(updated_data)"
   ]
  },
  {
   "cell_type": "code",
   "execution_count": 43,
   "metadata": {},
   "outputs": [
    {
     "data": {
      "text/html": [
       "<div>\n",
       "<style scoped>\n",
       "    .dataframe tbody tr th:only-of-type {\n",
       "        vertical-align: middle;\n",
       "    }\n",
       "\n",
       "    .dataframe tbody tr th {\n",
       "        vertical-align: top;\n",
       "    }\n",
       "\n",
       "    .dataframe thead th {\n",
       "        text-align: right;\n",
       "    }\n",
       "</style>\n",
       "<table border=\"1\" class=\"dataframe\">\n",
       "  <thead>\n",
       "    <tr style=\"text-align: right;\">\n",
       "      <th></th>\n",
       "      <th>_id</th>\n",
       "      <th>title</th>\n",
       "      <th>category</th>\n",
       "      <th>post_type</th>\n",
       "    </tr>\n",
       "  </thead>\n",
       "  <tbody>\n",
       "    <tr>\n",
       "      <th>0</th>\n",
       "      <td>5d62abaa65218653a132c956</td>\n",
       "      <td>hello there</td>\n",
       "      <td>Plant Biotechnology</td>\n",
       "      <td>blog</td>\n",
       "    </tr>\n",
       "    <tr>\n",
       "      <th>1</th>\n",
       "      <td>5d6d39567fa40e1417a4931c</td>\n",
       "      <td>Ml and AI</td>\n",
       "      <td>Artificial Intelligence</td>\n",
       "      <td>blog</td>\n",
       "    </tr>\n",
       "    <tr>\n",
       "      <th>2</th>\n",
       "      <td>5d6d39567fa40e1417a4931c</td>\n",
       "      <td>Ml and AI</td>\n",
       "      <td>Machine Learning</td>\n",
       "      <td>blog</td>\n",
       "    </tr>\n",
       "    <tr>\n",
       "      <th>3</th>\n",
       "      <td>5d6d39567fa40e1417a4931c</td>\n",
       "      <td>Ml and AI</td>\n",
       "      <td>Information Technology</td>\n",
       "      <td>blog</td>\n",
       "    </tr>\n",
       "    <tr>\n",
       "      <th>4</th>\n",
       "      <td>5d7d23315720533e15c3b1ee</td>\n",
       "      <td>What is an Operating System ?</td>\n",
       "      <td>Operating Systems</td>\n",
       "      <td>blog</td>\n",
       "    </tr>\n",
       "  </tbody>\n",
       "</table>\n",
       "</div>"
      ],
      "text/plain": [
       "                        _id                          title  \\\n",
       "0  5d62abaa65218653a132c956                    hello there   \n",
       "1  5d6d39567fa40e1417a4931c                      Ml and AI   \n",
       "2  5d6d39567fa40e1417a4931c                      Ml and AI   \n",
       "3  5d6d39567fa40e1417a4931c                      Ml and AI   \n",
       "4  5d7d23315720533e15c3b1ee  What is an Operating System ?   \n",
       "\n",
       "                  category  post_type  \n",
       "0      Plant Biotechnology       blog  \n",
       "1  Artificial Intelligence       blog  \n",
       "2         Machine Learning       blog  \n",
       "3   Information Technology       blog  \n",
       "4        Operating Systems       blog  "
      ]
     },
     "execution_count": 43,
     "metadata": {},
     "output_type": "execute_result"
    }
   ],
   "source": [
    "post1.head()"
   ]
  },
  {
   "cell_type": "code",
   "execution_count": 44,
   "metadata": {},
   "outputs": [
    {
     "data": {
      "text/html": [
       "<div>\n",
       "<style scoped>\n",
       "    .dataframe tbody tr th:only-of-type {\n",
       "        vertical-align: middle;\n",
       "    }\n",
       "\n",
       "    .dataframe tbody tr th {\n",
       "        vertical-align: top;\n",
       "    }\n",
       "\n",
       "    .dataframe thead th {\n",
       "        text-align: right;\n",
       "    }\n",
       "</style>\n",
       "<table border=\"1\" class=\"dataframe\">\n",
       "  <thead>\n",
       "    <tr style=\"text-align: right;\">\n",
       "      <th></th>\n",
       "      <th>_id</th>\n",
       "      <th>name</th>\n",
       "      <th>gender</th>\n",
       "      <th>academics</th>\n",
       "    </tr>\n",
       "  </thead>\n",
       "  <tbody>\n",
       "    <tr>\n",
       "      <th>0</th>\n",
       "      <td>5d60098a653a331687083238</td>\n",
       "      <td>Nivesh Singh Chauhan</td>\n",
       "      <td>male</td>\n",
       "      <td>undergraduate</td>\n",
       "    </tr>\n",
       "    <tr>\n",
       "      <th>1</th>\n",
       "      <td>5d610ae1653a331687083239</td>\n",
       "      <td>Gaurav Sharma</td>\n",
       "      <td>male</td>\n",
       "      <td>graduate</td>\n",
       "    </tr>\n",
       "    <tr>\n",
       "      <th>2</th>\n",
       "      <td>5d618359fc5fcf3bdd9a0910</td>\n",
       "      <td>Akshay Mishra</td>\n",
       "      <td>male</td>\n",
       "      <td>undergraduate</td>\n",
       "    </tr>\n",
       "    <tr>\n",
       "      <th>3</th>\n",
       "      <td>5d6d2bb87fa40e1417a49315</td>\n",
       "      <td>Saksham Mathur</td>\n",
       "      <td>male</td>\n",
       "      <td>undergraduate</td>\n",
       "    </tr>\n",
       "    <tr>\n",
       "      <th>4</th>\n",
       "      <td>5d7c994d5720533e15c3b1e9</td>\n",
       "      <td>Varun Chowhan</td>\n",
       "      <td>male</td>\n",
       "      <td>undergraduate</td>\n",
       "    </tr>\n",
       "  </tbody>\n",
       "</table>\n",
       "</div>"
      ],
      "text/plain": [
       "                        _id                  name gender      academics\n",
       "0  5d60098a653a331687083238  Nivesh Singh Chauhan   male  undergraduate\n",
       "1  5d610ae1653a331687083239         Gaurav Sharma   male       graduate\n",
       "2  5d618359fc5fcf3bdd9a0910         Akshay Mishra   male  undergraduate\n",
       "3  5d6d2bb87fa40e1417a49315        Saksham Mathur   male  undergraduate\n",
       "4  5d7c994d5720533e15c3b1e9         Varun Chowhan   male  undergraduate"
      ]
     },
     "execution_count": 44,
     "metadata": {},
     "output_type": "execute_result"
    }
   ],
   "source": [
    "user.head()"
   ]
  },
  {
   "cell_type": "code",
   "execution_count": 50,
   "metadata": {},
   "outputs": [],
   "source": [
    "post1.rename(columns={\"_id\":'post_id'}, inplace = True)\n",
    "user.rename(columns={\"user_id\":'post_id'}, inplace = True)"
   ]
  },
  {
   "cell_type": "code",
   "execution_count": 52,
   "metadata": {},
   "outputs": [
    {
     "data": {
      "text/html": [
       "<div>\n",
       "<style scoped>\n",
       "    .dataframe tbody tr th:only-of-type {\n",
       "        vertical-align: middle;\n",
       "    }\n",
       "\n",
       "    .dataframe tbody tr th {\n",
       "        vertical-align: top;\n",
       "    }\n",
       "\n",
       "    .dataframe thead th {\n",
       "        text-align: right;\n",
       "    }\n",
       "</style>\n",
       "<table border=\"1\" class=\"dataframe\">\n",
       "  <thead>\n",
       "    <tr style=\"text-align: right;\">\n",
       "      <th></th>\n",
       "      <th>post_id</th>\n",
       "      <th>title</th>\n",
       "      <th>category</th>\n",
       "      <th>post_type</th>\n",
       "    </tr>\n",
       "  </thead>\n",
       "  <tbody>\n",
       "    <tr>\n",
       "      <th>0</th>\n",
       "      <td>5d62abaa65218653a132c956</td>\n",
       "      <td>hello there</td>\n",
       "      <td>Plant Biotechnology</td>\n",
       "      <td>blog</td>\n",
       "    </tr>\n",
       "    <tr>\n",
       "      <th>1</th>\n",
       "      <td>5d6d39567fa40e1417a4931c</td>\n",
       "      <td>Ml and AI</td>\n",
       "      <td>Artificial Intelligence</td>\n",
       "      <td>blog</td>\n",
       "    </tr>\n",
       "    <tr>\n",
       "      <th>2</th>\n",
       "      <td>5d6d39567fa40e1417a4931c</td>\n",
       "      <td>Ml and AI</td>\n",
       "      <td>Machine Learning</td>\n",
       "      <td>blog</td>\n",
       "    </tr>\n",
       "    <tr>\n",
       "      <th>3</th>\n",
       "      <td>5d6d39567fa40e1417a4931c</td>\n",
       "      <td>Ml and AI</td>\n",
       "      <td>Information Technology</td>\n",
       "      <td>blog</td>\n",
       "    </tr>\n",
       "    <tr>\n",
       "      <th>4</th>\n",
       "      <td>5d7d23315720533e15c3b1ee</td>\n",
       "      <td>What is an Operating System ?</td>\n",
       "      <td>Operating Systems</td>\n",
       "      <td>blog</td>\n",
       "    </tr>\n",
       "  </tbody>\n",
       "</table>\n",
       "</div>"
      ],
      "text/plain": [
       "                    post_id                          title  \\\n",
       "0  5d62abaa65218653a132c956                    hello there   \n",
       "1  5d6d39567fa40e1417a4931c                      Ml and AI   \n",
       "2  5d6d39567fa40e1417a4931c                      Ml and AI   \n",
       "3  5d6d39567fa40e1417a4931c                      Ml and AI   \n",
       "4  5d7d23315720533e15c3b1ee  What is an Operating System ?   \n",
       "\n",
       "                  category  post_type  \n",
       "0      Plant Biotechnology       blog  \n",
       "1  Artificial Intelligence       blog  \n",
       "2         Machine Learning       blog  \n",
       "3   Information Technology       blog  \n",
       "4        Operating Systems       blog  "
      ]
     },
     "execution_count": 52,
     "metadata": {},
     "output_type": "execute_result"
    }
   ],
   "source": [
    "post1.head()"
   ]
  },
  {
   "cell_type": "code",
   "execution_count": 53,
   "metadata": {},
   "outputs": [
    {
     "data": {
      "text/html": [
       "<div>\n",
       "<style scoped>\n",
       "    .dataframe tbody tr th:only-of-type {\n",
       "        vertical-align: middle;\n",
       "    }\n",
       "\n",
       "    .dataframe tbody tr th {\n",
       "        vertical-align: top;\n",
       "    }\n",
       "\n",
       "    .dataframe thead th {\n",
       "        text-align: right;\n",
       "    }\n",
       "</style>\n",
       "<table border=\"1\" class=\"dataframe\">\n",
       "  <thead>\n",
       "    <tr style=\"text-align: right;\">\n",
       "      <th></th>\n",
       "      <th>user_id</th>\n",
       "      <th>post_id</th>\n",
       "      <th>timestamp</th>\n",
       "    </tr>\n",
       "  </thead>\n",
       "  <tbody>\n",
       "    <tr>\n",
       "      <th>0</th>\n",
       "      <td>5df49b32cc709107827fb3c7</td>\n",
       "      <td>5ec821ddec493f4a2655889e</td>\n",
       "      <td>2020-06-01T10:46:45.131Z</td>\n",
       "    </tr>\n",
       "    <tr>\n",
       "      <th>1</th>\n",
       "      <td>5ed3748576027d35905ccaab</td>\n",
       "      <td>5ed4cbadbd514d602c1531a6</td>\n",
       "      <td>2020-06-01T09:39:20.021Z</td>\n",
       "    </tr>\n",
       "    <tr>\n",
       "      <th>2</th>\n",
       "      <td>5ed0defa76027d35905cc2de</td>\n",
       "      <td>5eac305f10426255a7aa9dd3</td>\n",
       "      <td>2020-06-01T08:12:42.682Z</td>\n",
       "    </tr>\n",
       "    <tr>\n",
       "      <th>3</th>\n",
       "      <td>5ed0defa76027d35905cc2de</td>\n",
       "      <td>5ed1ff0276027d35905cc60d</td>\n",
       "      <td>2020-06-01T08:10:23.880Z</td>\n",
       "    </tr>\n",
       "    <tr>\n",
       "      <th>4</th>\n",
       "      <td>5ed0defa76027d35905cc2de</td>\n",
       "      <td>5ed3820f76027d35905ccac8</td>\n",
       "      <td>2020-06-01T08:08:54.124Z</td>\n",
       "    </tr>\n",
       "  </tbody>\n",
       "</table>\n",
       "</div>"
      ],
      "text/plain": [
       "                    user_id                   post_id  \\\n",
       "0  5df49b32cc709107827fb3c7  5ec821ddec493f4a2655889e   \n",
       "1  5ed3748576027d35905ccaab  5ed4cbadbd514d602c1531a6   \n",
       "2  5ed0defa76027d35905cc2de  5eac305f10426255a7aa9dd3   \n",
       "3  5ed0defa76027d35905cc2de  5ed1ff0276027d35905cc60d   \n",
       "4  5ed0defa76027d35905cc2de  5ed3820f76027d35905ccac8   \n",
       "\n",
       "                  timestamp  \n",
       "0  2020-06-01T10:46:45.131Z  \n",
       "1  2020-06-01T09:39:20.021Z  \n",
       "2  2020-06-01T08:12:42.682Z  \n",
       "3  2020-06-01T08:10:23.880Z  \n",
       "4  2020-06-01T08:08:54.124Z  "
      ]
     },
     "execution_count": 53,
     "metadata": {},
     "output_type": "execute_result"
    }
   ],
   "source": [
    "view.head()"
   ]
  },
  {
   "cell_type": "code",
   "execution_count": 49,
   "metadata": {},
   "outputs": [],
   "source": [
    "main = pd.merge(view,post1)"
   ]
  },
  {
   "cell_type": "code",
   "execution_count": 13,
   "metadata": {},
   "outputs": [
    {
     "data": {
      "text/html": [
       "<div>\n",
       "<style scoped>\n",
       "    .dataframe tbody tr th:only-of-type {\n",
       "        vertical-align: middle;\n",
       "    }\n",
       "\n",
       "    .dataframe tbody tr th {\n",
       "        vertical-align: top;\n",
       "    }\n",
       "\n",
       "    .dataframe thead th {\n",
       "        text-align: right;\n",
       "    }\n",
       "</style>\n",
       "<table border=\"1\" class=\"dataframe\">\n",
       "  <thead>\n",
       "    <tr style=\"text-align: right;\">\n",
       "      <th></th>\n",
       "      <th>user_id</th>\n",
       "      <th>post_id</th>\n",
       "      <th>timestamp</th>\n",
       "      <th>title</th>\n",
       "      <th>category</th>\n",
       "      <th>post_type</th>\n",
       "    </tr>\n",
       "  </thead>\n",
       "  <tbody>\n",
       "    <tr>\n",
       "      <th>0</th>\n",
       "      <td>5df49b32cc709107827fb3c7</td>\n",
       "      <td>5ec821ddec493f4a2655889e</td>\n",
       "      <td>2020-06-01T10:46:45.131Z</td>\n",
       "      <td>Save Earth.</td>\n",
       "      <td>Visual Arts</td>\n",
       "      <td>artwork</td>\n",
       "    </tr>\n",
       "    <tr>\n",
       "      <th>1</th>\n",
       "      <td>5df49b32cc709107827fb3c7</td>\n",
       "      <td>5ec821ddec493f4a2655889e</td>\n",
       "      <td>2020-06-01T10:46:45.131Z</td>\n",
       "      <td>Save Earth.</td>\n",
       "      <td>Graphic Design</td>\n",
       "      <td>artwork</td>\n",
       "    </tr>\n",
       "    <tr>\n",
       "      <th>2</th>\n",
       "      <td>5df49b32cc709107827fb3c7</td>\n",
       "      <td>5ec821ddec493f4a2655889e</td>\n",
       "      <td>2020-06-01T10:46:45.131Z</td>\n",
       "      <td>Save Earth.</td>\n",
       "      <td>Artistic design</td>\n",
       "      <td>artwork</td>\n",
       "    </tr>\n",
       "    <tr>\n",
       "      <th>3</th>\n",
       "      <td>5df49b32cc709107827fb3c7</td>\n",
       "      <td>5ec821ddec493f4a2655889e</td>\n",
       "      <td>2020-06-01T10:46:45.131Z</td>\n",
       "      <td>Save Earth.</td>\n",
       "      <td>Graphic</td>\n",
       "      <td>artwork</td>\n",
       "    </tr>\n",
       "    <tr>\n",
       "      <th>4</th>\n",
       "      <td>5df49b32cc709107827fb3c7</td>\n",
       "      <td>5ec821ddec493f4a2655889e</td>\n",
       "      <td>2020-06-01T10:46:45.131Z</td>\n",
       "      <td>Save Earth.</td>\n",
       "      <td>Illustration</td>\n",
       "      <td>artwork</td>\n",
       "    </tr>\n",
       "  </tbody>\n",
       "</table>\n",
       "</div>"
      ],
      "text/plain": [
       "                    user_id                   post_id  \\\n",
       "0  5df49b32cc709107827fb3c7  5ec821ddec493f4a2655889e   \n",
       "1  5df49b32cc709107827fb3c7  5ec821ddec493f4a2655889e   \n",
       "2  5df49b32cc709107827fb3c7  5ec821ddec493f4a2655889e   \n",
       "3  5df49b32cc709107827fb3c7  5ec821ddec493f4a2655889e   \n",
       "4  5df49b32cc709107827fb3c7  5ec821ddec493f4a2655889e   \n",
       "\n",
       "                  timestamp        title         category  post_type  \n",
       "0  2020-06-01T10:46:45.131Z  Save Earth.      Visual Arts    artwork  \n",
       "1  2020-06-01T10:46:45.131Z  Save Earth.   Graphic Design    artwork  \n",
       "2  2020-06-01T10:46:45.131Z  Save Earth.  Artistic design    artwork  \n",
       "3  2020-06-01T10:46:45.131Z  Save Earth.          Graphic    artwork  \n",
       "4  2020-06-01T10:46:45.131Z  Save Earth.     Illustration    artwork  "
      ]
     },
     "execution_count": 13,
     "metadata": {},
     "output_type": "execute_result"
    }
   ],
   "source": [
    "main.head()"
   ]
  },
  {
   "cell_type": "code",
   "execution_count": 14,
   "metadata": {},
   "outputs": [
    {
     "name": "stdout",
     "output_type": "stream",
     "text": [
      "The number of unique user_ids are 88\n",
      "The number of unique categories are 235\n"
     ]
    }
   ],
   "source": [
    "print(\"The number of unique user_ids are {}\".format(len(list(main[\"user_id\"].unique()))))\n",
    "print(\"The number of unique categories are {}\".format(len(list(main[\"category\"].unique()))))\n",
    "users = list(main[\"user_id\"].unique())\n",
    "categories = list(main[\"category\"].unique())"
   ]
  },
  {
   "cell_type": "code",
   "execution_count": 15,
   "metadata": {},
   "outputs": [],
   "source": [
    "#MATRIX WILL BE OF 88,235\n",
    "user_mat = [[] for i in range(len(users))]\n",
    "for i in range(len(users)):\n",
    "    for j in range(len(categories)):\n",
    "        value = len(main[(main[\"user_id\"]==users[i]) & (main[\"category\"]==categories[j])])\n",
    "        user_mat[i].append(value)"
   ]
  },
  {
   "cell_type": "code",
   "execution_count": 16,
   "metadata": {},
   "outputs": [
    {
     "name": "stdout",
     "output_type": "stream",
     "text": [
      "4 3 3 3 2 0 0 0 0 0 0 1 0 0 0 0 0 0 0 0 0 0 0 0 0 2 2 2 0 0 0 0 1 2 1 1 0 0 0 0 0 0 0 0 0 0 0 0 1 0 0 0 0 0 0 0 0 0 0 0 0 0 0 0 0 0 0 0 0 0 0 0 0 0 0 0 0 0 0 0 0 0 0 0 0 0 0 0 1 1 1 1 0 1 0 0 0 0 0 0 0 0 0 0 0 0 0 0 0 0 0 0 0 0 0 0 0 0 0 0 0 0 0 0 0 0 0 0 0 0 0 0 0 0 0 0 0 0 0 0 0 0 0 0 0 0 0 0 0 0 0 0 0 0 0 0 0 0 0 0 0 0 0 0 0 0 0 0 0 0 0 0 0 0 0 0 0 0 0 0 0 0 0 0 0 0 0 0 0 0 0 0 0 0 0 0 0 0 0 0 0 0 0 0 0 0 0 0 0 0 0 0 0 0 0 0 0 0 0 0 0 0 0 0 0 0 0 0 0 0 0 0 0 0 0 "
     ]
    }
   ],
   "source": [
    "for i in user_mat[0]:\n",
    "    print(i,end=\" \")"
   ]
  },
  {
   "cell_type": "code",
   "execution_count": 21,
   "metadata": {},
   "outputs": [],
   "source": [
    "from scipy.sparse import csr_matrix \n",
    "user_mat = csr_matrix(user_mat)"
   ]
  },
  {
   "cell_type": "code",
   "execution_count": 39,
   "metadata": {},
   "outputs": [],
   "source": [
    "from sklearn.neighbors import NearestNeighbors\n",
    "model = NearestNeighbors(metric='cosine', algorithm='brute', n_neighbors=15)"
   ]
  },
  {
   "cell_type": "code",
   "execution_count": null,
   "metadata": {},
   "outputs": [],
   "source": [
    "model.fit(user_mat)"
   ]
  },
  {
   "cell_type": "code",
   "execution_count": 43,
   "metadata": {},
   "outputs": [
    {
     "name": "stderr",
     "output_type": "stream",
     "text": [
      "2023/03/29 10:32:14 WARNING mlflow.sklearn: Model was missing function: predict. Not logging python_function flavor!\n",
      "c:\\Users\\DELL\\anaconda3\\envs\\mlops5\\lib\\site-packages\\_distutils_hack\\__init__.py:33: UserWarning: Setuptools is replacing distutils.\n",
      "  warnings.warn(\"Setuptools is replacing distutils.\")\n"
     ]
    }
   ],
   "source": [
    "with mlflow.start_run(run_name=\"rec system\"):\n",
    "    mlflow.sklearn.log_model(model, \"model\")\n"
   ]
  },
  {
   "cell_type": "code",
   "execution_count": 22,
   "metadata": {},
   "outputs": [],
   "source": [
    "RUN_ID='fa350b60cf564ff1a1d3341e2ac38cbe'\n",
    "#logged_model = f'mlflow-artifacts:/728115650857226939/eb5ec70b031246f3a1336ba5ea0afe76/artifacts/model'\n",
    "#mlflow-artifacts:/773732190913986377/fa350b60cf564ff1a1d3341e2ac38cbe/artifacts/model/MLmodel\n",
    "logged_model=f'mlflow-artifacts:/773732190913986377/{RUN_ID}/artifacts/model'\n",
    "#logged_model = f'runs:/{RUN_ID}/model'\n",
    "model = mlflow.sklearn.load_model(logged_model)"
   ]
  },
  {
   "cell_type": "code",
   "execution_count": 23,
   "metadata": {},
   "outputs": [],
   "source": [
    "def recommender(user_id, data=user_mat, model=model):\n",
    "        model.fit(data)\n",
    "        index = users.index(user_id)\n",
    "        current_user = main[main['user_id']==user_id]\n",
    "        distances, indices = model.kneighbors(data[index], 15)\n",
    "        recomendation = []\n",
    "        for i in indices[0]:\n",
    "            user = main[main['user_id']==users[i]]\n",
    "            for i in user['category'].unique():\n",
    "                if i not in current_user['category'].unique():\n",
    "                    recomendation.append(i)\n",
    "        return recomendation\n",
    "\n",
    "\n"
   ]
  },
  {
   "cell_type": "code",
   "execution_count": 24,
   "metadata": {},
   "outputs": [
    {
     "data": {
      "text/plain": [
       "['Fashion Portfoilio',\n",
       " 'Fashion Design',\n",
       " 'Watercolours',\n",
       " 'Drawings',\n",
       " 'Sketch Video',\n",
       " 'Political Science',\n",
       " 'Colonialism In India',\n",
       " 'Legal Studies',\n",
       " 'Labor Law',\n",
       " 'Banking']"
      ]
     },
     "execution_count": 24,
     "metadata": {},
     "output_type": "execute_result"
    }
   ],
   "source": [
    "recommender(users[0])[:10]"
   ]
  },
  {
   "cell_type": "code",
   "execution_count": 31,
   "metadata": {},
   "outputs": [
    {
     "data": {
      "text/plain": [
       "'5df49b32cc709107827fb3c7'"
      ]
     },
     "execution_count": 31,
     "metadata": {},
     "output_type": "execute_result"
    }
   ],
   "source": [
    "users[0]"
   ]
  },
  {
   "attachments": {},
   "cell_type": "markdown",
   "metadata": {},
   "source": [
    "CODE BASED FILTERING\n"
   ]
  },
  {
   "cell_type": "code",
   "execution_count": 25,
   "metadata": {},
   "outputs": [],
   "source": [
    "posts = list(main[\"post_id\"].unique())"
   ]
  },
  {
   "cell_type": "code",
   "execution_count": 26,
   "metadata": {},
   "outputs": [],
   "source": [
    "item_profiles = {}\n",
    "for i in categories:\n",
    "    item_profiles.update({i:[]})\n",
    "    for j in posts:\n",
    "        item_profiles[i].append(1) if i in list(main[main['post_id']==j]['category'].unique()) else item_profiles[i].append(0) "
   ]
  },
  {
   "cell_type": "code",
   "execution_count": 27,
   "metadata": {},
   "outputs": [
    {
     "name": "stdout",
     "output_type": "stream",
     "text": [
      "Visual Arts [1 0 0 0 0 0 0 0 0 0 0 0 0 0 0 0 0 1 0 1 0 0 1 0 0 0 0 0 0 0 0 0 0 1 1 0 0\n",
      " 0 0 0 0 0 0 0 0 0 0 0 0 0 0 0 0 0 0 0 0 0 0 0 0 0 0 0 0 0 0 0 0 0 0 0 0 0\n",
      " 0 0 0 0 1 0 0 1 0 0 0 0 1 0 1 0 0 1 1 0 0 0 0 0 0 0 0 1 0 1 0 0 0 0 0 0 0\n",
      " 0 0 0 0 0 0 0 0 0 0 0 0 0 0 0 0 0 0 0 0 0 0 0 0 0 0 0 0 0 0 0 0 0 0 0 0 0\n",
      " 0 0 0 0 0 0 0 0 0 0 0 0 1 1 0 0 0 0 1 0 0 0 0 0 0 0 0 0 0 0 0 0 0 0 0 0 0\n",
      " 0 1 0 0 0 0 0 0 0 0 0 0 0 0 0 0 0 0 0 0 0 0 0 0 0 0 0 0 0 0 0 0 0 0 0 0 0\n",
      " 1 0 0 0 0 0 0 0 0 0]\n"
     ]
    }
   ],
   "source": [
    "# converting lists to vectors or arrays\n",
    "for i in item_profiles:\n",
    "    item_profiles[i] = np.array(item_profiles[i])\n",
    "for i in item_profiles:\n",
    "    print(i, item_profiles[i])\n",
    "    break"
   ]
  },
  {
   "cell_type": "code",
   "execution_count": 28,
   "metadata": {},
   "outputs": [],
   "source": [
    "user_profiles = {}\n",
    "# Filling the user_profiles\n",
    "for i in users:\n",
    "    user_profiles.update({i:[]})\n",
    "    # finding the current user\n",
    "    current_user = main[main['user_id']==i]\n",
    "    # listing all the categories the user has viewed\n",
    "    current_user_categories = list(current_user['category'].unique())\n",
    "    # Listing all the posts the user has viewed\n",
    "    current_user_post = list(current_user['post_id'].unique())\n",
    "    \n",
    "    category_weight = {}\n",
    "    # create a dummy vector which will store the final vector for the user profile of length equal to posts\n",
    "    result_vector = np.array([0 for i in range(len(posts))])\n",
    "    for j in current_user_categories:\n",
    "        category_weight.update({j:0})\n",
    "        # Now count how many times j has appeared\n",
    "        for k in list(current_user['category']):\n",
    "            if j==k:\n",
    "                category_weight[j]+=1\n",
    "        # Now divide it with the length of the current_user_post\n",
    "        category_weight[j] = category_weight[j]/len(current_user_post)\n",
    "        # Now we have calculated our weights, Now we will calculate user-profile\n",
    "        result_vector = result_vector+ (category_weight[j]*item_profiles[j])\n",
    "    user_profiles[i] = result_vector/len(current_user_post)"
   ]
  },
  {
   "cell_type": "code",
   "execution_count": 29,
   "metadata": {},
   "outputs": [],
   "source": [
    "from sklearn.metrics.pairwise import cosine_similarity\n",
    "\n",
    "# we will create a function which will take user_id as argument and will provide recomendation\n",
    "# all other arguments will be set to some default values. \n",
    "def recommender1(user_id, user_profiles = user_profiles, item_profiles=item_profiles):\n",
    "    # calculate the cosine similiraity between the item-profile of all categories and the users user-profile\n",
    "    # create a dictionary category as key and cosine value as the value\n",
    "    similarity = {}\n",
    "    for i in item_profiles:\n",
    "        similarity.update({i:cosine_similarity(user_profiles[user_id].reshape(1, -1), item_profiles[i].reshape(1, -1))})\n",
    "    # as we have found the similarity now we will sort it and show the user the posts of the top categories and which the user\n",
    "    # hasnot viewed yet\n",
    "    sorted_similarity = sorted(similarity.items(), key=lambda x: x[1], reverse=True)\n",
    "    # now we will filter those posts that the user hasnot viewed\n",
    "    user_posts = list(main[main['user_id']==user_id]['post_id'].unique())\n",
    "    # create recomendation list\n",
    "    recommendations = []\n",
    "    # displaying users viewed posts and categories\n",
    "    print(\"posts user has viewed:{}\".format(user_posts))\n",
    "    print(\"categories viewed by users:{}\".format(list(main[main['user_id']==user_id]['category'].unique())))\n",
    "    for i in sorted_similarity:\n",
    "        category_posts = list(main[main['category']==i[0]]['post_id'].unique())\n",
    "        for j in category_posts:\n",
    "            if j not in user_posts:\n",
    "                recommendations.append([i[0], j])\n",
    "        # we will recommend top 20 posts to the user\n",
    "        if len(recommendations)==20:\n",
    "            break\n",
    "    for i in recommendations:\n",
    "        print(i)"
   ]
  },
  {
   "cell_type": "code",
   "execution_count": 30,
   "metadata": {},
   "outputs": [
    {
     "name": "stdout",
     "output_type": "stream",
     "text": [
      "posts user has viewed:['5ea7cd9610426255a7aa9bd2']\n",
      "categories viewed by users:['Business']\n",
      "['Business', '5ea80a7e10426255a7aa9be2']\n",
      "['Business', '5eadc2f710426255a7aa9ee4']\n",
      "['Business', '5e4d359cf5561b1994c8e424']\n",
      "['Business', '5e6eff8aed32a005135d6bb8']\n",
      "['Business', '5e830dc8a3258347b42f23fb']\n",
      "['Business', '5e978c7ca3258347b42f2b09']\n",
      "['Business', '5e9028cea3258347b42f2736']\n",
      "['Business', '5e8e13dca3258347b42f26f2']\n",
      "['Business Strategies', '5ea80a7e10426255a7aa9be2']\n",
      "['Business Strategies', '5e978c7ca3258347b42f2b09']\n",
      "['Business Strategies', '5e8e13dca3258347b42f26f2']\n",
      "['Venture Capitalist', '5eadc2f710426255a7aa9ee4']\n",
      "['Venture Capitalist', '5e978c7ca3258347b42f2b09']\n",
      "['Venture Capitalist', '5e8e13dca3258347b42f26f2']\n",
      "['Business Enviorment', '5ea80a7e10426255a7aa9be2']\n",
      "['Business Enviorment', '5eadc2f710426255a7aa9ee4']\n",
      "['New Venture Planning', '5ea80a7e10426255a7aa9be2']\n",
      "['New Venture Planning', '5eadc2f710426255a7aa9ee4']\n",
      "['Business Organisation', '5ea80a7e10426255a7aa9be2']\n",
      "['Business Organisation', '5e830dc8a3258347b42f23fb']\n"
     ]
    }
   ],
   "source": [
    "recommender1(users[30])"
   ]
  },
  {
   "cell_type": "code",
   "execution_count": 5,
   "metadata": {},
   "outputs": [],
   "source": [
    "import numpy as np\n",
    "import pandas as pd\n",
    "\n",
    "\n",
    "def read_data():\n",
    "    post = pd.read_csv(\"data/posts.csv\")\n",
    "    user = pd.read_csv(\"data/users.csv\")\n",
    "    view = pd.read_csv(\"data/views.csv\")\n",
    "    return post, user, view\n",
    "\n",
    "def prepare_features(post, user, view):\n",
    "    post[\"category\"] = post[\"category\"].fillna(\"random\")\n",
    "    cat = {}\n",
    "    for i in post[\"category\"]:\n",
    "        cat.update({i:[]})\n",
    "    for j in i.split(\"|\"):\n",
    "        cat[i].append(j)\n",
    "    updated_data =  []\n",
    "    for i in cat:\n",
    "        dummy = post[post['category']==i]\n",
    "        id = dummy['_id'].values[0]\n",
    "        title = dummy['title'].values[0]\n",
    "        post_type = dummy[' post_type'].values[0]\n",
    "    for j in cat[i]: \n",
    "        dict1 = {}\n",
    "        dict1.update({'_id':id})\n",
    "        dict1.update({'title':title})\n",
    "        dict1.update({'category':j})\n",
    "        dict1.update({' post_type':post_type})\n",
    "        updated_data.append(dict1)\n",
    "    post1 = pd.DataFrame(updated_data)\n",
    "    user.rename(columns={\"_id\":'post_id'}, inplace = True)\n",
    "    post1.rename(columns={\"_id\":'post_id'}, inplace = True)\n",
    "    main = pd.merge(view,post1, left_index=True, right_index=True)\n",
    "\n",
    "    "
   ]
  },
  {
   "cell_type": "code",
   "execution_count": 6,
   "metadata": {},
   "outputs": [
    {
     "name": "stdout",
     "output_type": "stream",
     "text": [
      "read data\n"
     ]
    },
    {
     "ename": "MergeError",
     "evalue": "No common columns to perform merge on. Merge options: left_on=None, right_on=None, left_index=False, right_index=False",
     "output_type": "error",
     "traceback": [
      "\u001b[1;31m---------------------------------------------------------------------------\u001b[0m",
      "\u001b[1;31mMergeError\u001b[0m                                Traceback (most recent call last)",
      "Cell \u001b[1;32mIn[6], line 7\u001b[0m\n\u001b[0;32m      4\u001b[0m     prepare_features(post, user, view)\n\u001b[0;32m      5\u001b[0m     \u001b[39mprint\u001b[39m(\u001b[39m'\u001b[39m\u001b[39mprepared data\u001b[39m\u001b[39m'\u001b[39m)\n\u001b[1;32m----> 7\u001b[0m main()\n",
      "Cell \u001b[1;32mIn[6], line 4\u001b[0m, in \u001b[0;36mmain\u001b[1;34m()\u001b[0m\n\u001b[0;32m      2\u001b[0m post, user, view\u001b[39m=\u001b[39mread_data()\n\u001b[0;32m      3\u001b[0m \u001b[39mprint\u001b[39m(\u001b[39m'\u001b[39m\u001b[39mread data\u001b[39m\u001b[39m'\u001b[39m)\n\u001b[1;32m----> 4\u001b[0m prepare_features(post, user, view)\n\u001b[0;32m      5\u001b[0m \u001b[39mprint\u001b[39m(\u001b[39m'\u001b[39m\u001b[39mprepared data\u001b[39m\u001b[39m'\u001b[39m)\n",
      "Cell \u001b[1;32mIn[5], line 34\u001b[0m, in \u001b[0;36mprepare_features\u001b[1;34m(post, user, view)\u001b[0m\n\u001b[0;32m     32\u001b[0m user\u001b[39m.\u001b[39mrename(columns\u001b[39m=\u001b[39m{\u001b[39m\"\u001b[39m\u001b[39m_id\u001b[39m\u001b[39m\"\u001b[39m:\u001b[39m'\u001b[39m\u001b[39mpost_id\u001b[39m\u001b[39m'\u001b[39m}, inplace \u001b[39m=\u001b[39m \u001b[39mTrue\u001b[39;00m)\n\u001b[0;32m     33\u001b[0m post1\u001b[39m.\u001b[39mrename(columns\u001b[39m=\u001b[39m{\u001b[39m\"\u001b[39m\u001b[39m_id\u001b[39m\u001b[39m\"\u001b[39m:\u001b[39m'\u001b[39m\u001b[39mpost_id\u001b[39m\u001b[39m'\u001b[39m}, inplace \u001b[39m=\u001b[39m \u001b[39mTrue\u001b[39;00m)\n\u001b[1;32m---> 34\u001b[0m main \u001b[39m=\u001b[39m pd\u001b[39m.\u001b[39;49mmerge(view,post1)\n",
      "File \u001b[1;32mc:\\Users\\DELL\\anaconda3\\envs\\mlops5\\lib\\site-packages\\pandas\\core\\reshape\\merge.py:110\u001b[0m, in \u001b[0;36mmerge\u001b[1;34m(left, right, how, on, left_on, right_on, left_index, right_index, sort, suffixes, copy, indicator, validate)\u001b[0m\n\u001b[0;32m     93\u001b[0m \u001b[39m@Substitution\u001b[39m(\u001b[39m\"\u001b[39m\u001b[39m\\n\u001b[39;00m\u001b[39mleft : DataFrame or named Series\u001b[39m\u001b[39m\"\u001b[39m)\n\u001b[0;32m     94\u001b[0m \u001b[39m@Appender\u001b[39m(_merge_doc, indents\u001b[39m=\u001b[39m\u001b[39m0\u001b[39m)\n\u001b[0;32m     95\u001b[0m \u001b[39mdef\u001b[39;00m \u001b[39mmerge\u001b[39m(\n\u001b[1;32m   (...)\u001b[0m\n\u001b[0;32m    108\u001b[0m     validate: \u001b[39mstr\u001b[39m \u001b[39m|\u001b[39m \u001b[39mNone\u001b[39;00m \u001b[39m=\u001b[39m \u001b[39mNone\u001b[39;00m,\n\u001b[0;32m    109\u001b[0m ) \u001b[39m-\u001b[39m\u001b[39m>\u001b[39m DataFrame:\n\u001b[1;32m--> 110\u001b[0m     op \u001b[39m=\u001b[39m _MergeOperation(\n\u001b[0;32m    111\u001b[0m         left,\n\u001b[0;32m    112\u001b[0m         right,\n\u001b[0;32m    113\u001b[0m         how\u001b[39m=\u001b[39;49mhow,\n\u001b[0;32m    114\u001b[0m         on\u001b[39m=\u001b[39;49mon,\n\u001b[0;32m    115\u001b[0m         left_on\u001b[39m=\u001b[39;49mleft_on,\n\u001b[0;32m    116\u001b[0m         right_on\u001b[39m=\u001b[39;49mright_on,\n\u001b[0;32m    117\u001b[0m         left_index\u001b[39m=\u001b[39;49mleft_index,\n\u001b[0;32m    118\u001b[0m         right_index\u001b[39m=\u001b[39;49mright_index,\n\u001b[0;32m    119\u001b[0m         sort\u001b[39m=\u001b[39;49msort,\n\u001b[0;32m    120\u001b[0m         suffixes\u001b[39m=\u001b[39;49msuffixes,\n\u001b[0;32m    121\u001b[0m         indicator\u001b[39m=\u001b[39;49mindicator,\n\u001b[0;32m    122\u001b[0m         validate\u001b[39m=\u001b[39;49mvalidate,\n\u001b[0;32m    123\u001b[0m     )\n\u001b[0;32m    124\u001b[0m     \u001b[39mreturn\u001b[39;00m op\u001b[39m.\u001b[39mget_result(copy\u001b[39m=\u001b[39mcopy)\n",
      "File \u001b[1;32mc:\\Users\\DELL\\anaconda3\\envs\\mlops5\\lib\\site-packages\\pandas\\core\\reshape\\merge.py:685\u001b[0m, in \u001b[0;36m_MergeOperation.__init__\u001b[1;34m(self, left, right, how, on, left_on, right_on, axis, left_index, right_index, sort, suffixes, indicator, validate)\u001b[0m\n\u001b[0;32m    681\u001b[0m     \u001b[39m# stacklevel chosen to be correct when this is reached via pd.merge\u001b[39;00m\n\u001b[0;32m    682\u001b[0m     \u001b[39m# (and not DataFrame.join)\u001b[39;00m\n\u001b[0;32m    683\u001b[0m     warnings\u001b[39m.\u001b[39mwarn(msg, \u001b[39mFutureWarning\u001b[39;00m, stacklevel\u001b[39m=\u001b[39mfind_stack_level())\n\u001b[1;32m--> 685\u001b[0m \u001b[39mself\u001b[39m\u001b[39m.\u001b[39mleft_on, \u001b[39mself\u001b[39m\u001b[39m.\u001b[39mright_on \u001b[39m=\u001b[39m \u001b[39mself\u001b[39;49m\u001b[39m.\u001b[39;49m_validate_left_right_on(left_on, right_on)\n\u001b[0;32m    687\u001b[0m cross_col \u001b[39m=\u001b[39m \u001b[39mNone\u001b[39;00m\n\u001b[0;32m    688\u001b[0m \u001b[39mif\u001b[39;00m \u001b[39mself\u001b[39m\u001b[39m.\u001b[39mhow \u001b[39m==\u001b[39m \u001b[39m\"\u001b[39m\u001b[39mcross\u001b[39m\u001b[39m\"\u001b[39m:\n",
      "File \u001b[1;32mc:\\Users\\DELL\\anaconda3\\envs\\mlops5\\lib\\site-packages\\pandas\\core\\reshape\\merge.py:1434\u001b[0m, in \u001b[0;36m_MergeOperation._validate_left_right_on\u001b[1;34m(self, left_on, right_on)\u001b[0m\n\u001b[0;32m   1432\u001b[0m common_cols \u001b[39m=\u001b[39m left_cols\u001b[39m.\u001b[39mintersection(right_cols)\n\u001b[0;32m   1433\u001b[0m \u001b[39mif\u001b[39;00m \u001b[39mlen\u001b[39m(common_cols) \u001b[39m==\u001b[39m \u001b[39m0\u001b[39m:\n\u001b[1;32m-> 1434\u001b[0m     \u001b[39mraise\u001b[39;00m MergeError(\n\u001b[0;32m   1435\u001b[0m         \u001b[39m\"\u001b[39m\u001b[39mNo common columns to perform merge on. \u001b[39m\u001b[39m\"\u001b[39m\n\u001b[0;32m   1436\u001b[0m         \u001b[39mf\u001b[39m\u001b[39m\"\u001b[39m\u001b[39mMerge options: left_on=\u001b[39m\u001b[39m{\u001b[39;00mleft_on\u001b[39m}\u001b[39;00m\u001b[39m, \u001b[39m\u001b[39m\"\u001b[39m\n\u001b[0;32m   1437\u001b[0m         \u001b[39mf\u001b[39m\u001b[39m\"\u001b[39m\u001b[39mright_on=\u001b[39m\u001b[39m{\u001b[39;00mright_on\u001b[39m}\u001b[39;00m\u001b[39m, \u001b[39m\u001b[39m\"\u001b[39m\n\u001b[0;32m   1438\u001b[0m         \u001b[39mf\u001b[39m\u001b[39m\"\u001b[39m\u001b[39mleft_index=\u001b[39m\u001b[39m{\u001b[39;00m\u001b[39mself\u001b[39m\u001b[39m.\u001b[39mleft_index\u001b[39m}\u001b[39;00m\u001b[39m, \u001b[39m\u001b[39m\"\u001b[39m\n\u001b[0;32m   1439\u001b[0m         \u001b[39mf\u001b[39m\u001b[39m\"\u001b[39m\u001b[39mright_index=\u001b[39m\u001b[39m{\u001b[39;00m\u001b[39mself\u001b[39m\u001b[39m.\u001b[39mright_index\u001b[39m}\u001b[39;00m\u001b[39m\"\u001b[39m\n\u001b[0;32m   1440\u001b[0m     )\n\u001b[0;32m   1441\u001b[0m \u001b[39mif\u001b[39;00m (\n\u001b[0;32m   1442\u001b[0m     \u001b[39mnot\u001b[39;00m left_cols\u001b[39m.\u001b[39mjoin(common_cols, how\u001b[39m=\u001b[39m\u001b[39m\"\u001b[39m\u001b[39minner\u001b[39m\u001b[39m\"\u001b[39m)\u001b[39m.\u001b[39mis_unique\n\u001b[0;32m   1443\u001b[0m     \u001b[39mor\u001b[39;00m \u001b[39mnot\u001b[39;00m right_cols\u001b[39m.\u001b[39mjoin(common_cols, how\u001b[39m=\u001b[39m\u001b[39m\"\u001b[39m\u001b[39minner\u001b[39m\u001b[39m\"\u001b[39m)\u001b[39m.\u001b[39mis_unique\n\u001b[0;32m   1444\u001b[0m ):\n\u001b[0;32m   1445\u001b[0m     \u001b[39mraise\u001b[39;00m MergeError(\u001b[39mf\u001b[39m\u001b[39m\"\u001b[39m\u001b[39mData columns not unique: \u001b[39m\u001b[39m{\u001b[39;00m\u001b[39mrepr\u001b[39m(common_cols)\u001b[39m}\u001b[39;00m\u001b[39m\"\u001b[39m)\n",
      "\u001b[1;31mMergeError\u001b[0m: No common columns to perform merge on. Merge options: left_on=None, right_on=None, left_index=False, right_index=False"
     ]
    }
   ],
   "source": [
    "def main():\n",
    "    post, user, view=read_data()\n",
    "    print('read data')\n",
    "    prepare_features(post, user, view)\n",
    "    print('prepared data')\n",
    "\n",
    "main()"
   ]
  },
  {
   "cell_type": "code",
   "execution_count": 19,
   "metadata": {},
   "outputs": [],
   "source": [
    "user.rename(columns={\"user_id\":'post_id'}, inplace = True)\n"
   ]
  },
  {
   "cell_type": "code",
   "execution_count": 30,
   "metadata": {},
   "outputs": [
    {
     "data": {
      "text/html": [
       "<div>\n",
       "<style scoped>\n",
       "    .dataframe tbody tr th:only-of-type {\n",
       "        vertical-align: middle;\n",
       "    }\n",
       "\n",
       "    .dataframe tbody tr th {\n",
       "        vertical-align: top;\n",
       "    }\n",
       "\n",
       "    .dataframe thead th {\n",
       "        text-align: right;\n",
       "    }\n",
       "</style>\n",
       "<table border=\"1\" class=\"dataframe\">\n",
       "  <thead>\n",
       "    <tr style=\"text-align: right;\">\n",
       "      <th></th>\n",
       "      <th>_id</th>\n",
       "      <th>name</th>\n",
       "      <th>gender</th>\n",
       "      <th>academics</th>\n",
       "    </tr>\n",
       "  </thead>\n",
       "  <tbody>\n",
       "    <tr>\n",
       "      <th>0</th>\n",
       "      <td>5d60098a653a331687083238</td>\n",
       "      <td>Nivesh Singh Chauhan</td>\n",
       "      <td>male</td>\n",
       "      <td>undergraduate</td>\n",
       "    </tr>\n",
       "    <tr>\n",
       "      <th>1</th>\n",
       "      <td>5d610ae1653a331687083239</td>\n",
       "      <td>Gaurav Sharma</td>\n",
       "      <td>male</td>\n",
       "      <td>graduate</td>\n",
       "    </tr>\n",
       "    <tr>\n",
       "      <th>2</th>\n",
       "      <td>5d618359fc5fcf3bdd9a0910</td>\n",
       "      <td>Akshay Mishra</td>\n",
       "      <td>male</td>\n",
       "      <td>undergraduate</td>\n",
       "    </tr>\n",
       "    <tr>\n",
       "      <th>3</th>\n",
       "      <td>5d6d2bb87fa40e1417a49315</td>\n",
       "      <td>Saksham Mathur</td>\n",
       "      <td>male</td>\n",
       "      <td>undergraduate</td>\n",
       "    </tr>\n",
       "    <tr>\n",
       "      <th>4</th>\n",
       "      <td>5d7c994d5720533e15c3b1e9</td>\n",
       "      <td>Varun Chowhan</td>\n",
       "      <td>male</td>\n",
       "      <td>undergraduate</td>\n",
       "    </tr>\n",
       "    <tr>\n",
       "      <th>...</th>\n",
       "      <td>...</td>\n",
       "      <td>...</td>\n",
       "      <td>...</td>\n",
       "      <td>...</td>\n",
       "    </tr>\n",
       "    <tr>\n",
       "      <th>113</th>\n",
       "      <td>5ed35aa376027d35905cca67</td>\n",
       "      <td>Steve</td>\n",
       "      <td>male</td>\n",
       "      <td>graduate</td>\n",
       "    </tr>\n",
       "    <tr>\n",
       "      <th>114</th>\n",
       "      <td>5ed3737976027d35905ccaa2</td>\n",
       "      <td>Himanshu Singh</td>\n",
       "      <td>male</td>\n",
       "      <td>undergraduate</td>\n",
       "    </tr>\n",
       "    <tr>\n",
       "      <th>115</th>\n",
       "      <td>5ed3748576027d35905ccaab</td>\n",
       "      <td>Parth Vijay</td>\n",
       "      <td>male</td>\n",
       "      <td>undergraduate</td>\n",
       "    </tr>\n",
       "    <tr>\n",
       "      <th>116</th>\n",
       "      <td>5ed3cbcbbd514d602c1530a7</td>\n",
       "      <td>Abhishek Mishra</td>\n",
       "      <td>male</td>\n",
       "      <td>undergraduate</td>\n",
       "    </tr>\n",
       "    <tr>\n",
       "      <th>117</th>\n",
       "      <td>5ed3e898bd514d602c1530de</td>\n",
       "      <td>gauri raskar</td>\n",
       "      <td>female</td>\n",
       "      <td>graduate</td>\n",
       "    </tr>\n",
       "  </tbody>\n",
       "</table>\n",
       "<p>118 rows × 4 columns</p>\n",
       "</div>"
      ],
      "text/plain": [
       "                          _id                  name  gender      academics\n",
       "0    5d60098a653a331687083238  Nivesh Singh Chauhan    male  undergraduate\n",
       "1    5d610ae1653a331687083239         Gaurav Sharma    male       graduate\n",
       "2    5d618359fc5fcf3bdd9a0910         Akshay Mishra    male  undergraduate\n",
       "3    5d6d2bb87fa40e1417a49315        Saksham Mathur    male  undergraduate\n",
       "4    5d7c994d5720533e15c3b1e9         Varun Chowhan    male  undergraduate\n",
       "..                        ...                   ...     ...            ...\n",
       "113  5ed35aa376027d35905cca67                 Steve    male       graduate\n",
       "114  5ed3737976027d35905ccaa2        Himanshu Singh    male  undergraduate\n",
       "115  5ed3748576027d35905ccaab           Parth Vijay    male  undergraduate\n",
       "116  5ed3cbcbbd514d602c1530a7       Abhishek Mishra    male  undergraduate\n",
       "117  5ed3e898bd514d602c1530de          gauri raskar  female       graduate\n",
       "\n",
       "[118 rows x 4 columns]"
      ]
     },
     "execution_count": 30,
     "metadata": {},
     "output_type": "execute_result"
    }
   ],
   "source": [
    "user"
   ]
  },
  {
   "cell_type": "code",
   "execution_count": 22,
   "metadata": {},
   "outputs": [
    {
     "data": {
      "text/html": [
       "<div>\n",
       "<style scoped>\n",
       "    .dataframe tbody tr th:only-of-type {\n",
       "        vertical-align: middle;\n",
       "    }\n",
       "\n",
       "    .dataframe tbody tr th {\n",
       "        vertical-align: top;\n",
       "    }\n",
       "\n",
       "    .dataframe thead th {\n",
       "        text-align: right;\n",
       "    }\n",
       "</style>\n",
       "<table border=\"1\" class=\"dataframe\">\n",
       "  <thead>\n",
       "    <tr style=\"text-align: right;\">\n",
       "      <th></th>\n",
       "      <th>post_id</th>\n",
       "      <th>title</th>\n",
       "      <th>category</th>\n",
       "      <th>post_type</th>\n",
       "    </tr>\n",
       "  </thead>\n",
       "  <tbody>\n",
       "    <tr>\n",
       "      <th>0</th>\n",
       "      <td>5d62abaa65218653a132c956</td>\n",
       "      <td>hello there</td>\n",
       "      <td>Plant Biotechnology</td>\n",
       "      <td>blog</td>\n",
       "    </tr>\n",
       "    <tr>\n",
       "      <th>1</th>\n",
       "      <td>5d6d39567fa40e1417a4931c</td>\n",
       "      <td>Ml and AI</td>\n",
       "      <td>Artificial Intelligence</td>\n",
       "      <td>blog</td>\n",
       "    </tr>\n",
       "    <tr>\n",
       "      <th>2</th>\n",
       "      <td>5d6d39567fa40e1417a4931c</td>\n",
       "      <td>Ml and AI</td>\n",
       "      <td>Machine Learning</td>\n",
       "      <td>blog</td>\n",
       "    </tr>\n",
       "    <tr>\n",
       "      <th>3</th>\n",
       "      <td>5d6d39567fa40e1417a4931c</td>\n",
       "      <td>Ml and AI</td>\n",
       "      <td>Information Technology</td>\n",
       "      <td>blog</td>\n",
       "    </tr>\n",
       "    <tr>\n",
       "      <th>4</th>\n",
       "      <td>5d7d23315720533e15c3b1ee</td>\n",
       "      <td>What is an Operating System ?</td>\n",
       "      <td>Operating Systems</td>\n",
       "      <td>blog</td>\n",
       "    </tr>\n",
       "    <tr>\n",
       "      <th>...</th>\n",
       "      <td>...</td>\n",
       "      <td>...</td>\n",
       "      <td>...</td>\n",
       "      <td>...</td>\n",
       "    </tr>\n",
       "    <tr>\n",
       "      <th>587</th>\n",
       "      <td>5ed23c8676027d35905cc780</td>\n",
       "      <td>Change.</td>\n",
       "      <td>Calligraphy</td>\n",
       "      <td>artwork</td>\n",
       "    </tr>\n",
       "    <tr>\n",
       "      <th>588</th>\n",
       "      <td>5ed23c8676027d35905cc780</td>\n",
       "      <td>Change.</td>\n",
       "      <td>Pen and ink</td>\n",
       "      <td>artwork</td>\n",
       "    </tr>\n",
       "    <tr>\n",
       "      <th>589</th>\n",
       "      <td>5ed23e4d76027d35905cc7b8</td>\n",
       "      <td>Success Story Of OYO Founder Ritesh Agarwal</td>\n",
       "      <td>Mass Media</td>\n",
       "      <td>blog</td>\n",
       "    </tr>\n",
       "    <tr>\n",
       "      <th>590</th>\n",
       "      <td>5ed23e4d76027d35905cc7b8</td>\n",
       "      <td>Success Story Of OYO Founder Ritesh Agarwal</td>\n",
       "      <td>Media And Society</td>\n",
       "      <td>blog</td>\n",
       "    </tr>\n",
       "    <tr>\n",
       "      <th>591</th>\n",
       "      <td>5ed415c6bd514d602c15312d</td>\n",
       "      <td>Face Recognition using Transfer Learning.</td>\n",
       "      <td>Science; Technology</td>\n",
       "      <td>skill</td>\n",
       "    </tr>\n",
       "  </tbody>\n",
       "</table>\n",
       "<p>592 rows × 4 columns</p>\n",
       "</div>"
      ],
      "text/plain": [
       "                      post_id                                        title  \\\n",
       "0    5d62abaa65218653a132c956                                  hello there   \n",
       "1    5d6d39567fa40e1417a4931c                                    Ml and AI   \n",
       "2    5d6d39567fa40e1417a4931c                                    Ml and AI   \n",
       "3    5d6d39567fa40e1417a4931c                                    Ml and AI   \n",
       "4    5d7d23315720533e15c3b1ee                What is an Operating System ?   \n",
       "..                        ...                                          ...   \n",
       "587  5ed23c8676027d35905cc780                                      Change.   \n",
       "588  5ed23c8676027d35905cc780                                      Change.   \n",
       "589  5ed23e4d76027d35905cc7b8  Success Story Of OYO Founder Ritesh Agarwal   \n",
       "590  5ed23e4d76027d35905cc7b8  Success Story Of OYO Founder Ritesh Agarwal   \n",
       "591  5ed415c6bd514d602c15312d    Face Recognition using Transfer Learning.   \n",
       "\n",
       "                    category  post_type  \n",
       "0        Plant Biotechnology       blog  \n",
       "1    Artificial Intelligence       blog  \n",
       "2           Machine Learning       blog  \n",
       "3     Information Technology       blog  \n",
       "4          Operating Systems       blog  \n",
       "..                       ...        ...  \n",
       "587              Calligraphy    artwork  \n",
       "588              Pen and ink    artwork  \n",
       "589               Mass Media       blog  \n",
       "590        Media And Society       blog  \n",
       "591      Science; Technology      skill  \n",
       "\n",
       "[592 rows x 4 columns]"
      ]
     },
     "execution_count": 22,
     "metadata": {},
     "output_type": "execute_result"
    }
   ],
   "source": [
    "post1"
   ]
  },
  {
   "cell_type": "code",
   "execution_count": 72,
   "metadata": {},
   "outputs": [
    {
     "data": {
      "text/plain": [
       "Index(['user_id', 'post_id', 'timestamp'], dtype='object')"
      ]
     },
     "execution_count": 72,
     "metadata": {},
     "output_type": "execute_result"
    }
   ],
   "source": [
    "view.columns"
   ]
  },
  {
   "cell_type": "code",
   "execution_count": 73,
   "metadata": {},
   "outputs": [
    {
     "data": {
      "text/plain": [
       "Index(['post_id', 'title', 'category', ' post_type'], dtype='object')"
      ]
     },
     "execution_count": 73,
     "metadata": {},
     "output_type": "execute_result"
    }
   ],
   "source": [
    "post1.columns"
   ]
  },
  {
   "cell_type": "code",
   "execution_count": 32,
   "metadata": {},
   "outputs": [
    {
     "data": {
      "text/html": [
       "<div>\n",
       "<style scoped>\n",
       "    .dataframe tbody tr th:only-of-type {\n",
       "        vertical-align: middle;\n",
       "    }\n",
       "\n",
       "    .dataframe tbody tr th {\n",
       "        vertical-align: top;\n",
       "    }\n",
       "\n",
       "    .dataframe thead th {\n",
       "        text-align: right;\n",
       "    }\n",
       "</style>\n",
       "<table border=\"1\" class=\"dataframe\">\n",
       "  <thead>\n",
       "    <tr style=\"text-align: right;\">\n",
       "      <th></th>\n",
       "      <th>_id</th>\n",
       "      <th>name</th>\n",
       "      <th>gender</th>\n",
       "      <th>academics</th>\n",
       "    </tr>\n",
       "  </thead>\n",
       "  <tbody>\n",
       "    <tr>\n",
       "      <th>0</th>\n",
       "      <td>5d60098a653a331687083238</td>\n",
       "      <td>Nivesh Singh Chauhan</td>\n",
       "      <td>male</td>\n",
       "      <td>undergraduate</td>\n",
       "    </tr>\n",
       "    <tr>\n",
       "      <th>1</th>\n",
       "      <td>5d610ae1653a331687083239</td>\n",
       "      <td>Gaurav Sharma</td>\n",
       "      <td>male</td>\n",
       "      <td>graduate</td>\n",
       "    </tr>\n",
       "    <tr>\n",
       "      <th>2</th>\n",
       "      <td>5d618359fc5fcf3bdd9a0910</td>\n",
       "      <td>Akshay Mishra</td>\n",
       "      <td>male</td>\n",
       "      <td>undergraduate</td>\n",
       "    </tr>\n",
       "    <tr>\n",
       "      <th>3</th>\n",
       "      <td>5d6d2bb87fa40e1417a49315</td>\n",
       "      <td>Saksham Mathur</td>\n",
       "      <td>male</td>\n",
       "      <td>undergraduate</td>\n",
       "    </tr>\n",
       "    <tr>\n",
       "      <th>4</th>\n",
       "      <td>5d7c994d5720533e15c3b1e9</td>\n",
       "      <td>Varun Chowhan</td>\n",
       "      <td>male</td>\n",
       "      <td>undergraduate</td>\n",
       "    </tr>\n",
       "  </tbody>\n",
       "</table>\n",
       "</div>"
      ],
      "text/plain": [
       "                        _id                  name gender      academics\n",
       "0  5d60098a653a331687083238  Nivesh Singh Chauhan   male  undergraduate\n",
       "1  5d610ae1653a331687083239         Gaurav Sharma   male       graduate\n",
       "2  5d618359fc5fcf3bdd9a0910         Akshay Mishra   male  undergraduate\n",
       "3  5d6d2bb87fa40e1417a49315        Saksham Mathur   male  undergraduate\n",
       "4  5d7c994d5720533e15c3b1e9         Varun Chowhan   male  undergraduate"
      ]
     },
     "execution_count": 32,
     "metadata": {},
     "output_type": "execute_result"
    }
   ],
   "source": [
    "user.head()"
   ]
  },
  {
   "cell_type": "code",
   "execution_count": 88,
   "metadata": {},
   "outputs": [],
   "source": [
    "df1 = pd.DataFrame({'A': [1, 2, 3], 'B': [4, 5, 6]})\n",
    "df2 = pd.DataFrame({'C': [7, 8, 9], 'D': [10, 11, 12]})"
   ]
  },
  {
   "cell_type": "code",
   "execution_count": 80,
   "metadata": {},
   "outputs": [],
   "source": [
    "merged_df = pd.merge(df1, df2, left_on='A', right_on='C')"
   ]
  },
  {
   "cell_type": "code",
   "execution_count": 87,
   "metadata": {},
   "outputs": [
    {
     "data": {
      "text/html": [
       "<div>\n",
       "<style scoped>\n",
       "    .dataframe tbody tr th:only-of-type {\n",
       "        vertical-align: middle;\n",
       "    }\n",
       "\n",
       "    .dataframe tbody tr th {\n",
       "        vertical-align: top;\n",
       "    }\n",
       "\n",
       "    .dataframe thead th {\n",
       "        text-align: right;\n",
       "    }\n",
       "</style>\n",
       "<table border=\"1\" class=\"dataframe\">\n",
       "  <thead>\n",
       "    <tr style=\"text-align: right;\">\n",
       "      <th></th>\n",
       "      <th>A</th>\n",
       "      <th>B</th>\n",
       "      <th>C</th>\n",
       "      <th>D</th>\n",
       "    </tr>\n",
       "  </thead>\n",
       "  <tbody>\n",
       "    <tr>\n",
       "      <th>0</th>\n",
       "      <td>1</td>\n",
       "      <td>4</td>\n",
       "      <td>7</td>\n",
       "      <td>10</td>\n",
       "    </tr>\n",
       "    <tr>\n",
       "      <th>1</th>\n",
       "      <td>2</td>\n",
       "      <td>5</td>\n",
       "      <td>8</td>\n",
       "      <td>11</td>\n",
       "    </tr>\n",
       "    <tr>\n",
       "      <th>2</th>\n",
       "      <td>3</td>\n",
       "      <td>6</td>\n",
       "      <td>9</td>\n",
       "      <td>12</td>\n",
       "    </tr>\n",
       "  </tbody>\n",
       "</table>\n",
       "</div>"
      ],
      "text/plain": [
       "   A  B  C   D\n",
       "0  1  4  7  10\n",
       "1  2  5  8  11\n",
       "2  3  6  9  12"
      ]
     },
     "execution_count": 87,
     "metadata": {},
     "output_type": "execute_result"
    }
   ],
   "source": [
    "merged_df"
   ]
  },
  {
   "cell_type": "code",
   "execution_count": 83,
   "metadata": {},
   "outputs": [],
   "source": [
    "merged_df = pd.merge(df1, df2, left_index=True, right_index=True)\n"
   ]
  },
  {
   "cell_type": "code",
   "execution_count": 89,
   "metadata": {},
   "outputs": [
    {
     "data": {
      "text/html": [
       "<div>\n",
       "<style scoped>\n",
       "    .dataframe tbody tr th:only-of-type {\n",
       "        vertical-align: middle;\n",
       "    }\n",
       "\n",
       "    .dataframe tbody tr th {\n",
       "        vertical-align: top;\n",
       "    }\n",
       "\n",
       "    .dataframe thead th {\n",
       "        text-align: right;\n",
       "    }\n",
       "</style>\n",
       "<table border=\"1\" class=\"dataframe\">\n",
       "  <thead>\n",
       "    <tr style=\"text-align: right;\">\n",
       "      <th></th>\n",
       "      <th>C</th>\n",
       "      <th>D</th>\n",
       "    </tr>\n",
       "  </thead>\n",
       "  <tbody>\n",
       "    <tr>\n",
       "      <th>0</th>\n",
       "      <td>7</td>\n",
       "      <td>10</td>\n",
       "    </tr>\n",
       "    <tr>\n",
       "      <th>1</th>\n",
       "      <td>8</td>\n",
       "      <td>11</td>\n",
       "    </tr>\n",
       "    <tr>\n",
       "      <th>2</th>\n",
       "      <td>9</td>\n",
       "      <td>12</td>\n",
       "    </tr>\n",
       "  </tbody>\n",
       "</table>\n",
       "</div>"
      ],
      "text/plain": [
       "   C   D\n",
       "0  7  10\n",
       "1  8  11\n",
       "2  9  12"
      ]
     },
     "execution_count": 89,
     "metadata": {},
     "output_type": "execute_result"
    }
   ],
   "source": [
    "df2"
   ]
  },
  {
   "cell_type": "code",
   "execution_count": null,
   "metadata": {},
   "outputs": [],
   "source": []
  }
 ],
 "metadata": {
  "kernelspec": {
   "display_name": "mlops5",
   "language": "python",
   "name": "python3"
  },
  "language_info": {
   "codemirror_mode": {
    "name": "ipython",
    "version": 3
   },
   "file_extension": ".py",
   "mimetype": "text/x-python",
   "name": "python",
   "nbconvert_exporter": "python",
   "pygments_lexer": "ipython3",
   "version": "3.8.16"
  },
  "orig_nbformat": 4
 },
 "nbformat": 4,
 "nbformat_minor": 2
}
